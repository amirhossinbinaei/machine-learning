{
 "cells": [
  {
   "cell_type": "markdown",
   "metadata": {},
   "source": [
    "<div dir=\"rtl\">\n",
    " بسم الله الرحمن الرحیم\n",
    "\n",
    "**نام:** امیرحسن بینائی شهری  \n",
    " تابستان ۱۴۰۴  \n",
    "\n",
    "در این پروژه، هدف ما استفاده از الگوریتم K-NN (نزدیک‌ترین همسایه) برای طبقه‌بندی داده‌های دو بعدی است. ابتدا داده‌های آموزشی دو بعدی به‌صورت تصادفی ایجاد می‌شوند و هر داده به یکی از دو کلاس (۰ یا ۱) تعلق دارد. سپس یک نمونه‌ی جدید تولید شده و با استفاده از K-NN، کلاس آن بر اساس نزدیک‌ترین همسایگانش پیش‌بینی می‌شود.\n",
    "\n",
    "از کتابخانه‌های `OpenCV` برای پیاده‌سازی مدل KNN، و از `NumPy` برای تولید داده‌ها و `Matplotlib` برای ترسیم داده‌ها استفاده شده است.\n",
    "\n",
    "در ادامه، خط‌به‌خط کدها آورده شده‌اند و برای هر بخش توضیح دقیق در قالب کامنت قرار داده شده است.\n",
    "</div>"
   ]
  },
  {
   "cell_type": "markdown",
   "metadata": {},
   "source": [
    "وارد کردن کتابخانه‌ها"
   ]
  },
  {
   "cell_type": "code",
   "execution_count": 58,
   "metadata": {},
   "outputs": [],
   "source": [
    "import cv2  # کتابخانه OpenCV برای پردازش تصویر و پیاده‌سازی الگوریتم‌های یادگیری ماشین\n",
    "import numpy as np  # کتابخانه‌ای برای محاسبات عددی، تولید داده و کار با آرایه‌ها\n",
    "import pandas as pd  # وارد کردن کتابخانه‌ی pandas برای ساخت DataFrame\n",
    "import matplotlib.pyplot as plt  # کتابخانه‌ای برای رسم نمودار و نمایش داده‌ها"
   ]
  },
  {
   "cell_type": "markdown",
   "metadata": {},
   "source": [
    "تولید داده‌های آموزشی و پاسخ‌ها"
   ]
  },
  {
   "cell_type": "code",
   "execution_count": 59,
   "metadata": {},
   "outputs": [],
   "source": [
    "np.random.seed(40)  # تنظیم مقدار اولیه برای تولید اعداد تصادفی به‌صورت قابل تکرار\n",
    "\n",
    "# تولید ۳۰ نقطه‌ی دوبعدی با مقادیر بین ۰ تا ۱۰۰ به‌صورت float32\n",
    "trainData = np.random.randint(0, 100, (30, 2)).astype(np.float32)\n",
    "\n",
    "# تولید ۳۰ مقدار کلاس (۰ یا ۱) برای هر نقطه، به‌صورت float32\n",
    "responses = np.random.randint(0, 2, (30, 1)).astype(np.float32)\n"
   ]
  },
  {
   "cell_type": "markdown",
   "metadata": {},
   "source": [
    "<div dir=\"rtl\">\n",
    "تبدیل trainData و responses به DataFrame\n",
    "</div>"
   ]
  },
  {
   "cell_type": "code",
   "execution_count": 60,
   "metadata": {},
   "outputs": [
    {
     "data": {
      "text/html": [
       "<div>\n",
       "<style scoped>\n",
       "    .dataframe tbody tr th:only-of-type {\n",
       "        vertical-align: middle;\n",
       "    }\n",
       "\n",
       "    .dataframe tbody tr th {\n",
       "        vertical-align: top;\n",
       "    }\n",
       "\n",
       "    .dataframe thead th {\n",
       "        text-align: right;\n",
       "    }\n",
       "</style>\n",
       "<table border=\"1\" class=\"dataframe\">\n",
       "  <thead>\n",
       "    <tr style=\"text-align: right;\">\n",
       "      <th></th>\n",
       "      <th>X1</th>\n",
       "      <th>X2</th>\n",
       "      <th>Label</th>\n",
       "    </tr>\n",
       "  </thead>\n",
       "  <tbody>\n",
       "    <tr>\n",
       "      <th>0</th>\n",
       "      <td>70.0</td>\n",
       "      <td>91.0</td>\n",
       "      <td>1</td>\n",
       "    </tr>\n",
       "    <tr>\n",
       "      <th>1</th>\n",
       "      <td>7.0</td>\n",
       "      <td>37.0</td>\n",
       "      <td>1</td>\n",
       "    </tr>\n",
       "    <tr>\n",
       "      <th>2</th>\n",
       "      <td>56.0</td>\n",
       "      <td>50.0</td>\n",
       "      <td>0</td>\n",
       "    </tr>\n",
       "    <tr>\n",
       "      <th>3</th>\n",
       "      <td>65.0</td>\n",
       "      <td>12.0</td>\n",
       "      <td>1</td>\n",
       "    </tr>\n",
       "    <tr>\n",
       "      <th>4</th>\n",
       "      <td>71.0</td>\n",
       "      <td>19.0</td>\n",
       "      <td>1</td>\n",
       "    </tr>\n",
       "    <tr>\n",
       "      <th>5</th>\n",
       "      <td>31.0</td>\n",
       "      <td>74.0</td>\n",
       "      <td>1</td>\n",
       "    </tr>\n",
       "    <tr>\n",
       "      <th>6</th>\n",
       "      <td>55.0</td>\n",
       "      <td>83.0</td>\n",
       "      <td>0</td>\n",
       "    </tr>\n",
       "    <tr>\n",
       "      <th>7</th>\n",
       "      <td>59.0</td>\n",
       "      <td>91.0</td>\n",
       "      <td>1</td>\n",
       "    </tr>\n",
       "    <tr>\n",
       "      <th>8</th>\n",
       "      <td>73.0</td>\n",
       "      <td>96.0</td>\n",
       "      <td>1</td>\n",
       "    </tr>\n",
       "    <tr>\n",
       "      <th>9</th>\n",
       "      <td>49.0</td>\n",
       "      <td>53.0</td>\n",
       "      <td>0</td>\n",
       "    </tr>\n",
       "    <tr>\n",
       "      <th>10</th>\n",
       "      <td>73.0</td>\n",
       "      <td>8.0</td>\n",
       "      <td>0</td>\n",
       "    </tr>\n",
       "    <tr>\n",
       "      <th>11</th>\n",
       "      <td>52.0</td>\n",
       "      <td>30.0</td>\n",
       "      <td>0</td>\n",
       "    </tr>\n",
       "    <tr>\n",
       "      <th>12</th>\n",
       "      <td>79.0</td>\n",
       "      <td>14.0</td>\n",
       "      <td>1</td>\n",
       "    </tr>\n",
       "    <tr>\n",
       "      <th>13</th>\n",
       "      <td>92.0</td>\n",
       "      <td>58.0</td>\n",
       "      <td>1</td>\n",
       "    </tr>\n",
       "    <tr>\n",
       "      <th>14</th>\n",
       "      <td>74.0</td>\n",
       "      <td>22.0</td>\n",
       "      <td>1</td>\n",
       "    </tr>\n",
       "    <tr>\n",
       "      <th>15</th>\n",
       "      <td>3.0</td>\n",
       "      <td>91.0</td>\n",
       "      <td>1</td>\n",
       "    </tr>\n",
       "    <tr>\n",
       "      <th>16</th>\n",
       "      <td>99.0</td>\n",
       "      <td>71.0</td>\n",
       "      <td>0</td>\n",
       "    </tr>\n",
       "    <tr>\n",
       "      <th>17</th>\n",
       "      <td>55.0</td>\n",
       "      <td>83.0</td>\n",
       "      <td>1</td>\n",
       "    </tr>\n",
       "    <tr>\n",
       "      <th>18</th>\n",
       "      <td>28.0</td>\n",
       "      <td>13.0</td>\n",
       "      <td>1</td>\n",
       "    </tr>\n",
       "    <tr>\n",
       "      <th>19</th>\n",
       "      <td>37.0</td>\n",
       "      <td>82.0</td>\n",
       "      <td>0</td>\n",
       "    </tr>\n",
       "    <tr>\n",
       "      <th>20</th>\n",
       "      <td>50.0</td>\n",
       "      <td>79.0</td>\n",
       "      <td>1</td>\n",
       "    </tr>\n",
       "    <tr>\n",
       "      <th>21</th>\n",
       "      <td>67.0</td>\n",
       "      <td>30.0</td>\n",
       "      <td>0</td>\n",
       "    </tr>\n",
       "    <tr>\n",
       "      <th>22</th>\n",
       "      <td>60.0</td>\n",
       "      <td>44.0</td>\n",
       "      <td>0</td>\n",
       "    </tr>\n",
       "    <tr>\n",
       "      <th>23</th>\n",
       "      <td>46.0</td>\n",
       "      <td>87.0</td>\n",
       "      <td>0</td>\n",
       "    </tr>\n",
       "    <tr>\n",
       "      <th>24</th>\n",
       "      <td>43.0</td>\n",
       "      <td>35.0</td>\n",
       "      <td>1</td>\n",
       "    </tr>\n",
       "    <tr>\n",
       "      <th>25</th>\n",
       "      <td>98.0</td>\n",
       "      <td>31.0</td>\n",
       "      <td>1</td>\n",
       "    </tr>\n",
       "    <tr>\n",
       "      <th>26</th>\n",
       "      <td>82.0</td>\n",
       "      <td>5.0</td>\n",
       "      <td>0</td>\n",
       "    </tr>\n",
       "    <tr>\n",
       "      <th>27</th>\n",
       "      <td>80.0</td>\n",
       "      <td>65.0</td>\n",
       "      <td>0</td>\n",
       "    </tr>\n",
       "    <tr>\n",
       "      <th>28</th>\n",
       "      <td>7.0</td>\n",
       "      <td>92.0</td>\n",
       "      <td>1</td>\n",
       "    </tr>\n",
       "    <tr>\n",
       "      <th>29</th>\n",
       "      <td>41.0</td>\n",
       "      <td>99.0</td>\n",
       "      <td>0</td>\n",
       "    </tr>\n",
       "  </tbody>\n",
       "</table>\n",
       "</div>"
      ],
      "text/plain": [
       "      X1    X2  Label\n",
       "0   70.0  91.0      1\n",
       "1    7.0  37.0      1\n",
       "2   56.0  50.0      0\n",
       "3   65.0  12.0      1\n",
       "4   71.0  19.0      1\n",
       "5   31.0  74.0      1\n",
       "6   55.0  83.0      0\n",
       "7   59.0  91.0      1\n",
       "8   73.0  96.0      1\n",
       "9   49.0  53.0      0\n",
       "10  73.0   8.0      0\n",
       "11  52.0  30.0      0\n",
       "12  79.0  14.0      1\n",
       "13  92.0  58.0      1\n",
       "14  74.0  22.0      1\n",
       "15   3.0  91.0      1\n",
       "16  99.0  71.0      0\n",
       "17  55.0  83.0      1\n",
       "18  28.0  13.0      1\n",
       "19  37.0  82.0      0\n",
       "20  50.0  79.0      1\n",
       "21  67.0  30.0      0\n",
       "22  60.0  44.0      0\n",
       "23  46.0  87.0      0\n",
       "24  43.0  35.0      1\n",
       "25  98.0  31.0      1\n",
       "26  82.0   5.0      0\n",
       "27  80.0  65.0      0\n",
       "28   7.0  92.0      1\n",
       "29  41.0  99.0      0"
      ]
     },
     "execution_count": 60,
     "metadata": {},
     "output_type": "execute_result"
    }
   ],
   "source": [
    "# ساخت DataFrame از trainData با نام‌گذاری ستون‌ها\n",
    "df_train = pd.DataFrame(trainData, columns=['X1', 'X2'])\n",
    "\n",
    "# اضافه کردن ستون کلاس (responses) به عنوان 'Label'\n",
    "df_train['Label'] = responses.astype(int)  # تبدیل به int برای نمایش ۰ یا ۱\n",
    "\n",
    "# نمایش جدول\n",
    "df_train"
   ]
  },
  {
   "cell_type": "markdown",
   "metadata": {},
   "source": [
    " رسم داده‌ها بر اساس کلاس آن‌ها"
   ]
  },
  {
   "cell_type": "code",
   "execution_count": 61,
   "metadata": {},
   "outputs": [
    {
     "name": "stderr",
     "output_type": "stream",
     "text": [
      "C:\\Users\\XMART\\AppData\\Local\\Temp\\ipykernel_1316\\1810288484.py:5: MatplotlibDeprecationWarning: Passing the marker parameter of scatter() positionally is deprecated since Matplotlib 3.9; the parameter will become keyword-only in 3.11.\n",
      "  plt.scatter(red[:, 0], red[:, 1], 80, 'r', '^')\n",
      "C:\\Users\\XMART\\AppData\\Local\\Temp\\ipykernel_1316\\1810288484.py:11: MatplotlibDeprecationWarning: Passing the marker parameter of scatter() positionally is deprecated since Matplotlib 3.9; the parameter will become keyword-only in 3.11.\n",
      "  plt.scatter(blue[:, 0], blue[:, 1], 80, 'b', 's')\n"
     ]
    },
    {
     "data": {
      "text/plain": [
       "<matplotlib.collections.PathCollection at 0x23b7a434a30>"
      ]
     },
     "execution_count": 61,
     "metadata": {},
     "output_type": "execute_result"
    },
    {
     "data": {
      "image/png": "[encoded data removed]",
      "text/plain": [
       "<Figure size 640x480 with 1 Axes>"
      ]
     },
     "metadata": {},
     "output_type": "display_data"
    }
   ],
   "source": [
    "# انتخاب نقاطی که کلاس آن‌ها ۰ است\n",
    "red = trainData[responses.ravel() == 0]\n",
    "\n",
    "# رسم نقاط کلاس ۰ با رنگ قرمز و شکل مثلث\n",
    "plt.scatter(red[:, 0], red[:, 1], 80, 'r', '^')\n",
    "\n",
    "# انتخاب نقاطی که کلاس آن‌ها ۱ است\n",
    "blue = trainData[responses.ravel() == 1]\n",
    "\n",
    "# رسم نقاط کلاس ۱ با رنگ آبی و شکل مربع\n",
    "plt.scatter(blue[:, 0], blue[:, 1], 80, 'b', 's')\n"
   ]
  },
  {
   "cell_type": "markdown",
   "metadata": {},
   "source": [
    "ایجاد یک عضو جدید برای پیش‌بینی"
   ]
  },
  {
   "cell_type": "code",
   "execution_count": 62,
   "metadata": {},
   "outputs": [
    {
     "data": {
      "text/plain": [
       "array([[51., 92.]], dtype=float32)"
      ]
     },
     "execution_count": 62,
     "metadata": {},
     "output_type": "execute_result"
    }
   ],
   "source": [
    "np.random.seed(42)  # تنظیم مقدار اولیه برای تولید داده‌ی تکرارپذیر\n",
    "\n",
    "# تولید یک نقطه‌ی جدید دوبعدی بین ۰ تا ۱۰۰\n",
    "newmember = np.random.randint(0, 100, (1, 2)).astype(np.float32)\n",
    "\n",
    "# نمایش مقدار عضو جدید\n",
    "newmember\n"
   ]
  },
  {
   "cell_type": "code",
   "execution_count": 63,
   "metadata": {},
   "outputs": [
    {
     "name": "stderr",
     "output_type": "stream",
     "text": [
      "C:\\Users\\XMART\\AppData\\Local\\Temp\\ipykernel_1316\\1291742393.py:1: MatplotlibDeprecationWarning: Passing the marker parameter of scatter() positionally is deprecated since Matplotlib 3.9; the parameter will become keyword-only in 3.11.\n",
      "  plt.scatter(newmember[: , 0], newmember[: , 1], 80, 'g', 'o')\n"
     ]
    },
    {
     "data": {
      "text/plain": [
       "<matplotlib.collections.PathCollection at 0x23b7a49a0e0>"
      ]
     },
     "execution_count": 63,
     "metadata": {},
     "output_type": "execute_result"
    },
    {
     "data": {
      "image/png": "[encoded data removed]",
      "text/plain": [
       "<Figure size 640x480 with 1 Axes>"
      ]
     },
     "metadata": {},
     "output_type": "display_data"
    }
   ],
   "source": [
    "plt.scatter(newmember[: , 0], newmember[: , 1], 80, 'g', 'o')\n"
   ]
  },
  {
   "cell_type": "markdown",
   "metadata": {},
   "source": [
    "ساخت مدل KNN و پیش‌بینی کلاس عضو جدید"
   ]
  },
  {
   "cell_type": "code",
   "execution_count": 64,
   "metadata": {},
   "outputs": [],
   "source": [
    "# ایجاد مدل KNN از طریق OpenCV\n",
    "knn = cv2.ml.KNearest_create()\n",
    "\n",
    "# آموزش مدل با داده‌های آموزشی و پاسخ‌ها\n",
    "knn.train(trainData, cv2.ml.ROW_SAMPLE, responses)\n",
    "\n",
    "# پیدا کردن ۳ نزدیک‌ترین همسایه به عضو جدید\n",
    "ret, results, neighbours, dist = knn.findNearest(newmember, 3)\n"
   ]
  },
  {
   "cell_type": "markdown",
   "metadata": {},
   "source": [
    "نمایش خروجی‌های مدل"
   ]
  },
  {
   "cell_type": "code",
   "execution_count": 65,
   "metadata": {},
   "outputs": [
    {
     "name": "stdout",
     "output_type": "stream",
     "text": [
      "Return: 0.0 \n",
      "\n",
      "result: [[0.]] \n",
      "\n",
      "neighbours: [[0. 1. 0.]] \n",
      "\n",
      "distance: [[50. 65. 97.]]\n"
     ]
    }
   ],
   "source": [
    "# نمایش کلاسی که برای عضو جدید پیش‌بینی شده\n",
    "print(\"Return:\", ret, \"\\n\")\n",
    "\n",
    "# نمایش پاسخ نهایی مدل\n",
    "print(\"result:\", results, \"\\n\")\n",
    "\n",
    "# نمایش سه همسایه‌ی نزدیک‌تر\n",
    "print(\"neighbours:\", neighbours, \"\\n\")\n",
    "\n",
    "# نمایش فاصله‌ی عضو جدید با هر همسایه\n",
    "print(\"distance:\", dist)\n",
    "\n",
    "# نمایش نمودار داده‌ها که در سلول سوم رسم شده بود\n",
    "plt.show()\n"
   ]
  },
  {
   "cell_type": "markdown",
   "metadata": {},
   "source": [
    "<div dir=\"rtl\">\n",
    "# ادامه پروژه - نسخه سه‌بعدی\n",
    "\n",
    "در این بخش، نسخه‌ای از همان پروژه طبقه‌بندی KNN را گسترش می‌دهیم تا بتوانیم داده‌هایی با **سه ویژگی (سه بعد)** تولید کرده و آن‌ها را طبقه‌بندی کنیم.\n",
    "\n",
    "تفاوت اصلی در اینجا آن است که:\n",
    "- داده‌ها به‌جای دوبعدی، سه‌بعدی هستند (مثلاً به‌جای مختصات X و Y، حالا X، Y و Z داریم)\n",
    "- برای نمایش داده‌ها از **نمودار سه‌بعدی** استفاده شده است\n",
    "- پیش‌بینی عضو جدید در فضای سه‌بعدی انجام می‌شود\n",
    "\n",
    "کد زیر ادامه کد قبلی است و کاملاً قابل اجراست.\n",
    "</div>"
   ]
  },
  {
   "cell_type": "code",
   "execution_count": 66,
   "metadata": {},
   "outputs": [],
   "source": [
    "from mpl_toolkits.mplot3d import Axes3D  # برای ترسیم نمودار سه‌بعدی\n"
   ]
  },
  {
   "cell_type": "code",
   "execution_count": 67,
   "metadata": {},
   "outputs": [],
   "source": [
    "np.random.seed(40)  # برای تکرارپذیری اعداد تصادفی\n",
    "\n",
    "# تولید ۳۰ نقطه‌ی تصادفی سه‌بعدی با مقادیر بین ۰ تا ۱۰۰\n",
    "trainData_3D = np.random.randint(0, 100, (30, 3)).astype(np.float32)\n",
    "\n",
    "# تولید کلاس‌های مربوط به داده‌ها (۰ یا ۱)\n",
    "responses_3D = np.random.randint(0, 2, (30, 1)).astype(np.float32)"
   ]
  },
  {
   "cell_type": "code",
   "execution_count": 68,
   "metadata": {},
   "outputs": [
    {
     "data": {
      "image/png": "[encoded data removed]",
      "text/plain": [
       "<Figure size 640x480 with 1 Axes>"
      ]
     },
     "metadata": {},
     "output_type": "display_data"
    }
   ],
   "source": [
    "# جداسازی داده‌ها بر اساس کلاس برای ترسیم\n",
    "red_3d = trainData_3D[responses_3D.ravel() == 0]\n",
    "blue_3d = trainData_3D[responses_3D.ravel() == 1]\n",
    "\n",
    "# ایجاد یک نمودار سه‌بعدی\n",
    "fig = plt.figure()\n",
    "ax = fig.add_subplot(111, projection='3d')\n",
    "# ترسیم نقاط کلاس ۰ (قرمز، مثلث)\n",
    "ax.scatter(red_3d[:, 0], red_3d[:, 1], red_3d[:, 2], c='r', marker='^', s=80, label='Class 0')\n",
    "\n",
    "# ترسیم نقاط کلاس ۱ (آبی، مربع)\n",
    "ax.scatter(blue_3d[:, 0], blue_3d[:, 1], blue_3d[:, 2], c='b', marker='s', s=80, label='Class 1')\n",
    "\n",
    "# ایجاد یک عضو جدید برای پیش‌بینی\n",
    "np.random.seed(42)\n",
    "new_point_3d = np.random.randint(0, 100, (1, 3)).astype(np.float32)\n",
    "\n",
    "# نمایش آن در نمودار\n",
    "ax.scatter(new_point_3d[:, 0], new_point_3d[:, 1], new_point_3d[:, 2], c='g', marker='o', s=100, label='New Point')\n",
    "\n",
    "# تنظیم عنوان و نمایش نمودار\n",
    "ax.set_title('3D KNN Classification')\n",
    "ax.set_xlabel('X')\n",
    "ax.set_ylabel('Y')\n",
    "ax.set_zlabel('Z')\n",
    "ax.legend()\n",
    "plt.show()"
   ]
  },
  {
   "cell_type": "code",
   "execution_count": 69,
   "metadata": {},
   "outputs": [],
   "source": [
    "# ایجاد مدل KNN و آموزش آن\n",
    "knn3D = cv2.ml.KNearest_create()\n",
    "knn3D.train(trainData_3D, cv2.ml.ROW_SAMPLE, responses_3D)\n",
    "\n",
    "# پیدا کردن ۳ همسایه نزدیک\n",
    "ret3D, result3D, neighbours3D, dist3D = knn3D.findNearest(new_point_3d, 3)"
   ]
  },
  {
   "cell_type": "code",
   "execution_count": 70,
   "metadata": {},
   "outputs": [
    {
     "name": "stdout",
     "output_type": "stream",
     "text": [
      "Return: 1\n",
      "result: [[1.]]\n",
      "neighbours: [[0. 1. 1.]]\n",
      "distance: [[411. 437. 581.]]\n"
     ]
    }
   ],
   "source": [
    "\n",
    "\n",
    "# نمایش کلاسی که برای عضو جدید پیش‌بینی شده\n",
    "print(\"Return:\", int(ret3D))\n",
    "\n",
    "# نمایش پاسخ نهایی مدل\n",
    "print(\"result:\", result3D)\n",
    "\n",
    "# نمایش سه همسایه‌ی نزدیک‌تر\n",
    "print(\"neighbours:\", neighbours3D)\n",
    "\n",
    "# نمایش فاصله‌ی عضو جدید با هر همسایه\n",
    "print(\"distance:\", dist3D)\n",
    "\n"
   ]
  }
 ],
 "metadata": {
  "kernelspec": {
   "display_name": "Python 3",
   "language": "python",
   "name": "python3"
  },
  "language_info": {
   "codemirror_mode": {
    "name": "ipython",
    "version": 3
   },
   "file_extension": ".py",
   "mimetype": "text/x-python",
   "name": "python",
   "nbconvert_exporter": "python",
   "pygments_lexer": "ipython3",
   "version": "3.10.10"
  }
 },
 "nbformat": 4,
 "nbformat_minor": 2
}
