{
  "cells": [
    {
      "cell_type": "markdown",
      "metadata": {},
      "source": [
        "<div style=\"direction:rtl;line-height:300%;\">\n",
        "  <font face=\"XB Zar\" size=5>\n",
        "    <div align=center>\n",
        "      <font face=\"IranNastaliq\" size=30>\n",
        "        <p></p>\n",
        "        <p></p>\n",
        "        به نام خدا\n",
        "        <p></p>\n",
        "      </font>\n",
        "      <font color=#FF7500>\n",
        "            <br />\n",
        "        <div align=center>\n",
        "یادگیری ماشین - پروژه آماده‌سازی داده و رگرسیون خطی\n",
        "            <br />\n",
        "            </font>\n",
        "      <p></p>\n",
        "      <font color=blue>\n",
        "امیرحسین بینائی شهری\n",
        "            </font>\n",
        "      <br />\n",
        "      <br />\n",
        "تابستان 1404\n",
        "    </div>\n",
        "    <hr/>\n",
        "    <font color=red size=6>\n",
        "      <br />\n",
        "      <div align=center>\n",
        "آماده‌سازی داده و پیاده‌سازی الگوریتم رگرسیون خطی          \n",
        "</div>\n",
        "    </font>\n",
        "    <br />\n",
        "    <div align=center>\n",
        "این پروژه با بهره‌گیری از منابع علمی معتبر و مطالعات شخصی تهیه شده است. \n",
        "        <br />\n",
        "در این پروژه تلاش شده است تمامی نکات مربوط به آماده‌سازی داده‌ها با دقت بیان شود. هر یک از این مراحل می‌توانند به صورت جداگانه در پروژه‌های دیگر مورد استفاده قرار گیرند، و بسته به نیاز، نیازی به اجرای کامل تمامی مراحل نیست. \n",
        "        <br />\n",
        " از تمام افرادی که در فرآیند یادگیری و پیشرفت این پروژه نقش غیرمستقیم داشتند، قدردانی می‌شود.\n",
        "        </div>\n",
        "    <hr />\n",
        "    <style type=\"text/css\" scoped>\n",
        "        p{\n",
        "        border: 1px solid #a2a9b1;background-color: #f8f9fa;display: inline-block;\n",
        "        };\n",
        "        </style>\n",
        "    <div>\n",
        "      <h3>فهرست مطالب</h3>\n",
        "      <ul style=\"margin-right: 0;\">\n",
        "        <li>\n",
        "                    <a href=\"#sec_intro\">\n",
        "                        مقدمه و اهداف پروژه\n",
        "                    </a>\n",
        "                </li>\n",
        "                <li>\n",
        "                    <a href=\"#sec_data\">\n",
        "                        معرفی و بارگذاری داده‌ها\n",
        "                    </a>\n",
        "                </li>\n",
        "                <li>\n",
        "                    <a href=\"#sec_cleaning\">\n",
        "                        بررسی و پاک‌سازی داده‌های گمشده\n",
        "                    </a>\n",
        "                </li>\n",
        "                <li>\n",
        "                    <a href=\"#sec_split\">\n",
        "                        تقسیم داده‌ها به آموزش و تست\n",
        "                    </a>\n",
        "                </li>\n",
        "                <li>\n",
        "                    <a href=\"#sec_regression\">\n",
        "                        پیاده‌سازی الگوریتم رگرسیون خطی\n",
        "                    </a>\n",
        "                </li>\n",
        "                <li>\n",
        "                    <a href=\"#sec_eval\">\n",
        "                        ارزیابی مدل و تحلیل نتایج\n",
        "                    </a>\n",
        "                </li>\n",
        "                <li>\n",
        "                    <a href=\"#sec_refs\">\n",
        "                        منابع و پیوندهای مرتبط\n",
        "                    </a>\n",
        "                </li>\n",
        "      </ul>\n",
        "    </div>\n",
        "  </font>\n",
        "</div>"
      ]
    },
    {
      "cell_type": "code",
      "execution_count": 148,
      "metadata": {
        "id": "SCwMRGAv0Ort"
      },
      "outputs": [],
      "source": [
        "import numpy as np\n",
        "import pandas as pd\n",
        "import matplotlib.pyplot as plt\n",
        "import seaborn as sns"
      ]
    },
    {
      "cell_type": "markdown",
      "metadata": {
        "id": "-skVw5-3DH90"
      },
      "source": [
        "**Enter** **data**"
      ]
    },
    {
      "cell_type": "code",
      "execution_count": 149,
      "metadata": {
        "id": "9ljlLRCX04gs"
      },
      "outputs": [],
      "source": [
        "df=pd.read_csv(\"housing.csv\")"
      ]
    },
    {
      "cell_type": "markdown",
      "metadata": {
        "id": "-8eJLY2GjS4m"
      },
      "source": [
        "بررسی تعداد مقادیر گمشده هر ستون"
      ]
    },
    {
      "cell_type": "code",
      "execution_count": 150,
      "metadata": {
        "colab": {
          "base_uri": "https://localhost:8080/",
          "height": 397
        },
        "id": "mEWQlIRNQEZd",
        "outputId": "7605f2a2-c0d3-424e-d256-12a4e0e85498"
      },
      "outputs": [
        {
          "data": {
            "text/plain": [
              "longitude               0\n",
              "latitude                0\n",
              "housing_median_age      0\n",
              "total_rooms             0\n",
              "total_bedrooms        207\n",
              "population              0\n",
              "households              0\n",
              "median_income           0\n",
              "median_house_value      0\n",
              "ocean_proximity         0\n",
              "dtype: int64"
            ]
          },
          "execution_count": 150,
          "metadata": {},
          "output_type": "execute_result"
        }
      ],
      "source": [
        "df.isnull().sum()"
      ]
    },
    {
      "cell_type": "markdown",
      "metadata": {
        "id": "tPIY3dRSjtwE"
      },
      "source": [
        "نمایش اطلاعات کلی درباره دیتافریم"
      ]
    },
    {
      "cell_type": "code",
      "execution_count": 151,
      "metadata": {
        "colab": {
          "base_uri": "https://localhost:8080/"
        },
        "id": "kutD86gh1ZdX",
        "outputId": "63eec641-2ca8-40ef-ecab-1599141436a9"
      },
      "outputs": [
        {
          "name": "stdout",
          "output_type": "stream",
          "text": [
            "<class 'pandas.core.frame.DataFrame'>\n",
            "RangeIndex: 20640 entries, 0 to 20639\n",
            "Data columns (total 10 columns):\n",
            " #   Column              Non-Null Count  Dtype  \n",
            "---  ------              --------------  -----  \n",
            " 0   longitude           20640 non-null  float64\n",
            " 1   latitude            20640 non-null  float64\n",
            " 2   housing_median_age  20640 non-null  float64\n",
            " 3   total_rooms         20640 non-null  float64\n",
            " 4   total_bedrooms      20433 non-null  float64\n",
            " 5   population          20640 non-null  float64\n",
            " 6   households          20640 non-null  float64\n",
            " 7   median_income       20640 non-null  float64\n",
            " 8   median_house_value  20640 non-null  float64\n",
            " 9   ocean_proximity     20640 non-null  object \n",
            "dtypes: float64(9), object(1)\n",
            "memory usage: 1.6+ MB\n"
          ]
        }
      ],
      "source": [
        "df.info()"
      ]
    },
    {
      "cell_type": "markdown",
      "metadata": {
        "id": "u-BJ046Zj8J-"
      },
      "source": [
        "نمایش خلاصه آماری داده ها"
      ]
    },
    {
      "cell_type": "code",
      "execution_count": 152,
      "metadata": {
        "colab": {
          "base_uri": "https://localhost:8080/",
          "height": 300
        },
        "id": "tCSjxnU21yL5",
        "outputId": "80ac5303-833d-4996-ae8f-f069f62cbd38"
      },
      "outputs": [
        {
          "data": {
            "text/html": [
              "<div>\n",
              "<style scoped>\n",
              "    .dataframe tbody tr th:only-of-type {\n",
              "        vertical-align: middle;\n",
              "    }\n",
              "\n",
              "    .dataframe tbody tr th {\n",
              "        vertical-align: top;\n",
              "    }\n",
              "\n",
              "    .dataframe thead th {\n",
              "        text-align: right;\n",
              "    }\n",
              "</style>\n",
              "<table border=\"1\" class=\"dataframe\">\n",
              "  <thead>\n",
              "    <tr style=\"text-align: right;\">\n",
              "      <th></th>\n",
              "      <th>longitude</th>\n",
              "      <th>latitude</th>\n",
              "      <th>housing_median_age</th>\n",
              "      <th>total_rooms</th>\n",
              "      <th>total_bedrooms</th>\n",
              "      <th>population</th>\n",
              "      <th>households</th>\n",
              "      <th>median_income</th>\n",
              "      <th>median_house_value</th>\n",
              "    </tr>\n",
              "  </thead>\n",
              "  <tbody>\n",
              "    <tr>\n",
              "      <th>count</th>\n",
              "      <td>20640.000000</td>\n",
              "      <td>20640.000000</td>\n",
              "      <td>20640.000000</td>\n",
              "      <td>20640.000000</td>\n",
              "      <td>20433.000000</td>\n",
              "      <td>20640.000000</td>\n",
              "      <td>20640.000000</td>\n",
              "      <td>20640.000000</td>\n",
              "      <td>20640.000000</td>\n",
              "    </tr>\n",
              "    <tr>\n",
              "      <th>mean</th>\n",
              "      <td>-119.569704</td>\n",
              "      <td>35.631861</td>\n",
              "      <td>28.639486</td>\n",
              "      <td>2635.763081</td>\n",
              "      <td>537.870553</td>\n",
              "      <td>1425.476744</td>\n",
              "      <td>499.539680</td>\n",
              "      <td>3.870671</td>\n",
              "      <td>206855.816909</td>\n",
              "    </tr>\n",
              "    <tr>\n",
              "      <th>std</th>\n",
              "      <td>2.003532</td>\n",
              "      <td>2.135952</td>\n",
              "      <td>12.585558</td>\n",
              "      <td>2181.615252</td>\n",
              "      <td>421.385070</td>\n",
              "      <td>1132.462122</td>\n",
              "      <td>382.329753</td>\n",
              "      <td>1.899822</td>\n",
              "      <td>115395.615874</td>\n",
              "    </tr>\n",
              "    <tr>\n",
              "      <th>min</th>\n",
              "      <td>-124.350000</td>\n",
              "      <td>32.540000</td>\n",
              "      <td>1.000000</td>\n",
              "      <td>2.000000</td>\n",
              "      <td>1.000000</td>\n",
              "      <td>3.000000</td>\n",
              "      <td>1.000000</td>\n",
              "      <td>0.499900</td>\n",
              "      <td>14999.000000</td>\n",
              "    </tr>\n",
              "    <tr>\n",
              "      <th>25%</th>\n",
              "      <td>-121.800000</td>\n",
              "      <td>33.930000</td>\n",
              "      <td>18.000000</td>\n",
              "      <td>1447.750000</td>\n",
              "      <td>296.000000</td>\n",
              "      <td>787.000000</td>\n",
              "      <td>280.000000</td>\n",
              "      <td>2.563400</td>\n",
              "      <td>119600.000000</td>\n",
              "    </tr>\n",
              "    <tr>\n",
              "      <th>50%</th>\n",
              "      <td>-118.490000</td>\n",
              "      <td>34.260000</td>\n",
              "      <td>29.000000</td>\n",
              "      <td>2127.000000</td>\n",
              "      <td>435.000000</td>\n",
              "      <td>1166.000000</td>\n",
              "      <td>409.000000</td>\n",
              "      <td>3.534800</td>\n",
              "      <td>179700.000000</td>\n",
              "    </tr>\n",
              "    <tr>\n",
              "      <th>75%</th>\n",
              "      <td>-118.010000</td>\n",
              "      <td>37.710000</td>\n",
              "      <td>37.000000</td>\n",
              "      <td>3148.000000</td>\n",
              "      <td>647.000000</td>\n",
              "      <td>1725.000000</td>\n",
              "      <td>605.000000</td>\n",
              "      <td>4.743250</td>\n",
              "      <td>264725.000000</td>\n",
              "    </tr>\n",
              "    <tr>\n",
              "      <th>max</th>\n",
              "      <td>-114.310000</td>\n",
              "      <td>41.950000</td>\n",
              "      <td>52.000000</td>\n",
              "      <td>39320.000000</td>\n",
              "      <td>6445.000000</td>\n",
              "      <td>35682.000000</td>\n",
              "      <td>6082.000000</td>\n",
              "      <td>15.000100</td>\n",
              "      <td>500001.000000</td>\n",
              "    </tr>\n",
              "  </tbody>\n",
              "</table>\n",
              "</div>"
            ],
            "text/plain": [
              "          longitude      latitude  housing_median_age   total_rooms  \\\n",
              "count  20640.000000  20640.000000        20640.000000  20640.000000   \n",
              "mean    -119.569704     35.631861           28.639486   2635.763081   \n",
              "std        2.003532      2.135952           12.585558   2181.615252   \n",
              "min     -124.350000     32.540000            1.000000      2.000000   \n",
              "25%     -121.800000     33.930000           18.000000   1447.750000   \n",
              "50%     -118.490000     34.260000           29.000000   2127.000000   \n",
              "75%     -118.010000     37.710000           37.000000   3148.000000   \n",
              "max     -114.310000     41.950000           52.000000  39320.000000   \n",
              "\n",
              "       total_bedrooms    population    households  median_income  \\\n",
              "count    20433.000000  20640.000000  20640.000000   20640.000000   \n",
              "mean       537.870553   1425.476744    499.539680       3.870671   \n",
              "std        421.385070   1132.462122    382.329753       1.899822   \n",
              "min          1.000000      3.000000      1.000000       0.499900   \n",
              "25%        296.000000    787.000000    280.000000       2.563400   \n",
              "50%        435.000000   1166.000000    409.000000       3.534800   \n",
              "75%        647.000000   1725.000000    605.000000       4.743250   \n",
              "max       6445.000000  35682.000000   6082.000000      15.000100   \n",
              "\n",
              "       median_house_value  \n",
              "count        20640.000000  \n",
              "mean        206855.816909  \n",
              "std         115395.615874  \n",
              "min          14999.000000  \n",
              "25%         119600.000000  \n",
              "50%         179700.000000  \n",
              "75%         264725.000000  \n",
              "max         500001.000000  "
            ]
          },
          "execution_count": 152,
          "metadata": {},
          "output_type": "execute_result"
        }
      ],
      "source": [
        "df.describe()"
      ]
    },
    {
      "cell_type": "code",
      "execution_count": 153,
      "metadata": {
        "colab": {
          "base_uri": "https://localhost:8080/",
          "height": 272
        },
        "id": "5HS5tGer2BIo",
        "outputId": "bc570eee-c4b2-46ad-b225-26672938c329"
      },
      "outputs": [
        {
          "data": {
            "text/plain": [
              "ocean_proximity\n",
              "<1H OCEAN     9136\n",
              "INLAND        6551\n",
              "NEAR OCEAN    2658\n",
              "NEAR BAY      2290\n",
              "ISLAND           5\n",
              "Name: count, dtype: int64"
            ]
          },
          "execution_count": 153,
          "metadata": {},
          "output_type": "execute_result"
        }
      ],
      "source": [
        "df.ocean_proximity.value_counts()"
      ]
    },
    {
      "cell_type": "code",
      "execution_count": 154,
      "metadata": {
        "colab": {
          "base_uri": "https://localhost:8080/",
          "height": 443
        },
        "id": "8DzqwvJV2iMx",
        "outputId": "0e9bf16b-fefd-478a-8faa-5a75115a2606"
      },
      "outputs": [
        {
          "data": {
            "text/html": [
              "<div>\n",
              "<style scoped>\n",
              "    .dataframe tbody tr th:only-of-type {\n",
              "        vertical-align: middle;\n",
              "    }\n",
              "\n",
              "    .dataframe tbody tr th {\n",
              "        vertical-align: top;\n",
              "    }\n",
              "\n",
              "    .dataframe thead th {\n",
              "        text-align: right;\n",
              "    }\n",
              "</style>\n",
              "<table border=\"1\" class=\"dataframe\">\n",
              "  <thead>\n",
              "    <tr style=\"text-align: right;\">\n",
              "      <th></th>\n",
              "      <th>longitude</th>\n",
              "      <th>latitude</th>\n",
              "      <th>housing_median_age</th>\n",
              "      <th>total_rooms</th>\n",
              "      <th>total_bedrooms</th>\n",
              "      <th>population</th>\n",
              "      <th>households</th>\n",
              "      <th>median_income</th>\n",
              "      <th>median_house_value</th>\n",
              "      <th>ocean_proximity</th>\n",
              "    </tr>\n",
              "  </thead>\n",
              "  <tbody>\n",
              "    <tr>\n",
              "      <th>0</th>\n",
              "      <td>-122.23</td>\n",
              "      <td>37.88</td>\n",
              "      <td>41.0</td>\n",
              "      <td>880.0</td>\n",
              "      <td>129.0</td>\n",
              "      <td>322.0</td>\n",
              "      <td>126.0</td>\n",
              "      <td>8.3252</td>\n",
              "      <td>452600.0</td>\n",
              "      <td>NEAR BAY</td>\n",
              "    </tr>\n",
              "    <tr>\n",
              "      <th>1</th>\n",
              "      <td>-122.22</td>\n",
              "      <td>37.86</td>\n",
              "      <td>21.0</td>\n",
              "      <td>7099.0</td>\n",
              "      <td>1106.0</td>\n",
              "      <td>2401.0</td>\n",
              "      <td>1138.0</td>\n",
              "      <td>8.3014</td>\n",
              "      <td>358500.0</td>\n",
              "      <td>NEAR BAY</td>\n",
              "    </tr>\n",
              "    <tr>\n",
              "      <th>2</th>\n",
              "      <td>-122.24</td>\n",
              "      <td>37.85</td>\n",
              "      <td>52.0</td>\n",
              "      <td>1467.0</td>\n",
              "      <td>190.0</td>\n",
              "      <td>496.0</td>\n",
              "      <td>177.0</td>\n",
              "      <td>7.2574</td>\n",
              "      <td>352100.0</td>\n",
              "      <td>NEAR BAY</td>\n",
              "    </tr>\n",
              "    <tr>\n",
              "      <th>3</th>\n",
              "      <td>-122.25</td>\n",
              "      <td>37.85</td>\n",
              "      <td>52.0</td>\n",
              "      <td>1274.0</td>\n",
              "      <td>235.0</td>\n",
              "      <td>558.0</td>\n",
              "      <td>219.0</td>\n",
              "      <td>5.6431</td>\n",
              "      <td>341300.0</td>\n",
              "      <td>NEAR BAY</td>\n",
              "    </tr>\n",
              "    <tr>\n",
              "      <th>4</th>\n",
              "      <td>-122.25</td>\n",
              "      <td>37.85</td>\n",
              "      <td>52.0</td>\n",
              "      <td>1627.0</td>\n",
              "      <td>280.0</td>\n",
              "      <td>565.0</td>\n",
              "      <td>259.0</td>\n",
              "      <td>3.8462</td>\n",
              "      <td>342200.0</td>\n",
              "      <td>NEAR BAY</td>\n",
              "    </tr>\n",
              "    <tr>\n",
              "      <th>...</th>\n",
              "      <td>...</td>\n",
              "      <td>...</td>\n",
              "      <td>...</td>\n",
              "      <td>...</td>\n",
              "      <td>...</td>\n",
              "      <td>...</td>\n",
              "      <td>...</td>\n",
              "      <td>...</td>\n",
              "      <td>...</td>\n",
              "      <td>...</td>\n",
              "    </tr>\n",
              "    <tr>\n",
              "      <th>20635</th>\n",
              "      <td>-121.09</td>\n",
              "      <td>39.48</td>\n",
              "      <td>25.0</td>\n",
              "      <td>1665.0</td>\n",
              "      <td>374.0</td>\n",
              "      <td>845.0</td>\n",
              "      <td>330.0</td>\n",
              "      <td>1.5603</td>\n",
              "      <td>78100.0</td>\n",
              "      <td>INLAND</td>\n",
              "    </tr>\n",
              "    <tr>\n",
              "      <th>20636</th>\n",
              "      <td>-121.21</td>\n",
              "      <td>39.49</td>\n",
              "      <td>18.0</td>\n",
              "      <td>697.0</td>\n",
              "      <td>150.0</td>\n",
              "      <td>356.0</td>\n",
              "      <td>114.0</td>\n",
              "      <td>2.5568</td>\n",
              "      <td>77100.0</td>\n",
              "      <td>INLAND</td>\n",
              "    </tr>\n",
              "    <tr>\n",
              "      <th>20637</th>\n",
              "      <td>-121.22</td>\n",
              "      <td>39.43</td>\n",
              "      <td>17.0</td>\n",
              "      <td>2254.0</td>\n",
              "      <td>485.0</td>\n",
              "      <td>1007.0</td>\n",
              "      <td>433.0</td>\n",
              "      <td>1.7000</td>\n",
              "      <td>92300.0</td>\n",
              "      <td>INLAND</td>\n",
              "    </tr>\n",
              "    <tr>\n",
              "      <th>20638</th>\n",
              "      <td>-121.32</td>\n",
              "      <td>39.43</td>\n",
              "      <td>18.0</td>\n",
              "      <td>1860.0</td>\n",
              "      <td>409.0</td>\n",
              "      <td>741.0</td>\n",
              "      <td>349.0</td>\n",
              "      <td>1.8672</td>\n",
              "      <td>84700.0</td>\n",
              "      <td>INLAND</td>\n",
              "    </tr>\n",
              "    <tr>\n",
              "      <th>20639</th>\n",
              "      <td>-121.24</td>\n",
              "      <td>39.37</td>\n",
              "      <td>16.0</td>\n",
              "      <td>2785.0</td>\n",
              "      <td>616.0</td>\n",
              "      <td>1387.0</td>\n",
              "      <td>530.0</td>\n",
              "      <td>2.3886</td>\n",
              "      <td>89400.0</td>\n",
              "      <td>INLAND</td>\n",
              "    </tr>\n",
              "  </tbody>\n",
              "</table>\n",
              "<p>20640 rows × 10 columns</p>\n",
              "</div>"
            ],
            "text/plain": [
              "       longitude  latitude  housing_median_age  total_rooms  total_bedrooms  \\\n",
              "0        -122.23     37.88                41.0        880.0           129.0   \n",
              "1        -122.22     37.86                21.0       7099.0          1106.0   \n",
              "2        -122.24     37.85                52.0       1467.0           190.0   \n",
              "3        -122.25     37.85                52.0       1274.0           235.0   \n",
              "4        -122.25     37.85                52.0       1627.0           280.0   \n",
              "...          ...       ...                 ...          ...             ...   \n",
              "20635    -121.09     39.48                25.0       1665.0           374.0   \n",
              "20636    -121.21     39.49                18.0        697.0           150.0   \n",
              "20637    -121.22     39.43                17.0       2254.0           485.0   \n",
              "20638    -121.32     39.43                18.0       1860.0           409.0   \n",
              "20639    -121.24     39.37                16.0       2785.0           616.0   \n",
              "\n",
              "       population  households  median_income  median_house_value  \\\n",
              "0           322.0       126.0         8.3252            452600.0   \n",
              "1          2401.0      1138.0         8.3014            358500.0   \n",
              "2           496.0       177.0         7.2574            352100.0   \n",
              "3           558.0       219.0         5.6431            341300.0   \n",
              "4           565.0       259.0         3.8462            342200.0   \n",
              "...           ...         ...            ...                 ...   \n",
              "20635       845.0       330.0         1.5603             78100.0   \n",
              "20636       356.0       114.0         2.5568             77100.0   \n",
              "20637      1007.0       433.0         1.7000             92300.0   \n",
              "20638       741.0       349.0         1.8672             84700.0   \n",
              "20639      1387.0       530.0         2.3886             89400.0   \n",
              "\n",
              "      ocean_proximity  \n",
              "0            NEAR BAY  \n",
              "1            NEAR BAY  \n",
              "2            NEAR BAY  \n",
              "3            NEAR BAY  \n",
              "4            NEAR BAY  \n",
              "...               ...  \n",
              "20635          INLAND  \n",
              "20636          INLAND  \n",
              "20637          INLAND  \n",
              "20638          INLAND  \n",
              "20639          INLAND  \n",
              "\n",
              "[20640 rows x 10 columns]"
            ]
          },
          "execution_count": 154,
          "metadata": {},
          "output_type": "execute_result"
        }
      ],
      "source": [
        "df"
      ]
    },
    {
      "cell_type": "markdown",
      "metadata": {
        "id": "QGjgJ5D9Dkzt"
      },
      "source": [
        "تابعی برای شافل (در هم ریختن) و تقسیم داده ها به داده های آموزش و تست"
      ]
    },
    {
      "cell_type": "code",
      "execution_count": 155,
      "metadata": {
        "id": "hk7IQ2rND_Bt"
      },
      "outputs": [],
      "source": [
        "def shuffle_and_split_df(df,test_ratio):\n",
        "  np.random.seed(42) # تنظیم سیید برای تولید تصادفی قابل تکرار\n",
        "  random_indices=np.random.permutation(len(df))\n",
        "  test_set_size=int(len(df)*test_ratio)\n",
        "  test_indices=random_indices[:test_set_size]\n",
        "  train_indices=random_indices[test_set_size:]\n",
        "  return df.iloc[train_indices],df.iloc[test_indices]\n",
        "train_est,test_set=shuffle_and_split_df(df,0.2)\n"
      ]
    },
    {
      "cell_type": "code",
      "execution_count": 156,
      "metadata": {
        "colab": {
          "base_uri": "https://localhost:8080/",
          "height": 226
        },
        "id": "GYS2-duVFy1R",
        "outputId": "250acb0f-2021-4837-ac23-74a5356e4078"
      },
      "outputs": [
        {
          "data": {
            "text/html": [
              "<div>\n",
              "<style scoped>\n",
              "    .dataframe tbody tr th:only-of-type {\n",
              "        vertical-align: middle;\n",
              "    }\n",
              "\n",
              "    .dataframe tbody tr th {\n",
              "        vertical-align: top;\n",
              "    }\n",
              "\n",
              "    .dataframe thead th {\n",
              "        text-align: right;\n",
              "    }\n",
              "</style>\n",
              "<table border=\"1\" class=\"dataframe\">\n",
              "  <thead>\n",
              "    <tr style=\"text-align: right;\">\n",
              "      <th></th>\n",
              "      <th>longitude</th>\n",
              "      <th>latitude</th>\n",
              "      <th>housing_median_age</th>\n",
              "      <th>total_rooms</th>\n",
              "      <th>total_bedrooms</th>\n",
              "      <th>population</th>\n",
              "      <th>households</th>\n",
              "      <th>median_income</th>\n",
              "      <th>median_house_value</th>\n",
              "      <th>ocean_proximity</th>\n",
              "    </tr>\n",
              "  </thead>\n",
              "  <tbody>\n",
              "    <tr>\n",
              "      <th>20046</th>\n",
              "      <td>-119.01</td>\n",
              "      <td>36.06</td>\n",
              "      <td>25.0</td>\n",
              "      <td>1505.0</td>\n",
              "      <td>NaN</td>\n",
              "      <td>1392.0</td>\n",
              "      <td>359.0</td>\n",
              "      <td>1.6812</td>\n",
              "      <td>47700.0</td>\n",
              "      <td>INLAND</td>\n",
              "    </tr>\n",
              "    <tr>\n",
              "      <th>3024</th>\n",
              "      <td>-119.46</td>\n",
              "      <td>35.14</td>\n",
              "      <td>30.0</td>\n",
              "      <td>2943.0</td>\n",
              "      <td>NaN</td>\n",
              "      <td>1565.0</td>\n",
              "      <td>584.0</td>\n",
              "      <td>2.5313</td>\n",
              "      <td>45800.0</td>\n",
              "      <td>INLAND</td>\n",
              "    </tr>\n",
              "    <tr>\n",
              "      <th>15663</th>\n",
              "      <td>-122.44</td>\n",
              "      <td>37.80</td>\n",
              "      <td>52.0</td>\n",
              "      <td>3830.0</td>\n",
              "      <td>NaN</td>\n",
              "      <td>1310.0</td>\n",
              "      <td>963.0</td>\n",
              "      <td>3.4801</td>\n",
              "      <td>500001.0</td>\n",
              "      <td>NEAR BAY</td>\n",
              "    </tr>\n",
              "    <tr>\n",
              "      <th>20484</th>\n",
              "      <td>-118.72</td>\n",
              "      <td>34.28</td>\n",
              "      <td>17.0</td>\n",
              "      <td>3051.0</td>\n",
              "      <td>NaN</td>\n",
              "      <td>1705.0</td>\n",
              "      <td>495.0</td>\n",
              "      <td>5.7376</td>\n",
              "      <td>218600.0</td>\n",
              "      <td>&lt;1H OCEAN</td>\n",
              "    </tr>\n",
              "    <tr>\n",
              "      <th>9814</th>\n",
              "      <td>-121.93</td>\n",
              "      <td>36.62</td>\n",
              "      <td>34.0</td>\n",
              "      <td>2351.0</td>\n",
              "      <td>NaN</td>\n",
              "      <td>1063.0</td>\n",
              "      <td>428.0</td>\n",
              "      <td>3.7250</td>\n",
              "      <td>278000.0</td>\n",
              "      <td>NEAR OCEAN</td>\n",
              "    </tr>\n",
              "  </tbody>\n",
              "</table>\n",
              "</div>"
            ],
            "text/plain": [
              "       longitude  latitude  housing_median_age  total_rooms  total_bedrooms  \\\n",
              "20046    -119.01     36.06                25.0       1505.0             NaN   \n",
              "3024     -119.46     35.14                30.0       2943.0             NaN   \n",
              "15663    -122.44     37.80                52.0       3830.0             NaN   \n",
              "20484    -118.72     34.28                17.0       3051.0             NaN   \n",
              "9814     -121.93     36.62                34.0       2351.0             NaN   \n",
              "\n",
              "       population  households  median_income  median_house_value  \\\n",
              "20046      1392.0       359.0         1.6812             47700.0   \n",
              "3024       1565.0       584.0         2.5313             45800.0   \n",
              "15663      1310.0       963.0         3.4801            500001.0   \n",
              "20484      1705.0       495.0         5.7376            218600.0   \n",
              "9814       1063.0       428.0         3.7250            278000.0   \n",
              "\n",
              "      ocean_proximity  \n",
              "20046          INLAND  \n",
              "3024           INLAND  \n",
              "15663        NEAR BAY  \n",
              "20484       <1H OCEAN  \n",
              "9814       NEAR OCEAN  "
            ]
          },
          "execution_count": 156,
          "metadata": {},
          "output_type": "execute_result"
        }
      ],
      "source": [
        "test_set.head()"
      ]
    },
    {
      "cell_type": "markdown",
      "metadata": {
        "id": "EitijLk4FJtA"
      },
      "source": [
        "ما میخواهیم که اگر به داده های فعلی ، داده جدیدی اضافه شد یا هر اتفاق دیگری که روی داده های ما افتاد ، داده های تست قبلی وارد ترین نشوند و در قسمت تست جدید هم حضور داشته باشند. که این دو تابع زیر این کار را برای ما انجام میدهد"
      ]
    },
    {
      "cell_type": "markdown",
      "metadata": {
        "id": "18Wnkh4Qk0lM"
      },
      "source": [
        "روش پایدار تر برای تقسیم داده ها با استفاده از هش و ایندکس (برای حفظ یکپارچگی تقسیم)"
      ]
    },
    {
      "cell_type": "code",
      "execution_count": 157,
      "metadata": {
        "id": "t0RXcEg4IDge"
      },
      "outputs": [],
      "source": [
        "from zlib import crc32 # کتابخانه‌ای برای محاسبه‌ی هش (hash)\n",
        "\n",
        "def is_identifier_in_test_set(identifier,test_ratio):\n",
        "    # بررسی اینکه آیا یک نمونه باید در مجموعه تست قرار بگیرد یا نه\n",
        "  return crc32(np.int64(identifier)) < test_ratio*2**32\n",
        "def split_train_test_with_indentifier_hash(df,test_ratio,indentifier_column):\n",
        "  indentifiers=df[indentifier_column] # دریافت ستون شناسه‌ها\n",
        "  # مشخص می‌کند کدام نمونه‌ها در تست قرار می‌گیرند\n",
        "  in_test_set= indentifiers.apply(lambda id_:is_identifier_in_test_set(id_,test_ratio))\n",
        "  return df.loc[~in_test_set],df.loc[in_test_set]\n",
        "  # تقسیم داده‌ها بر اساس ایندکس (پس از ریست کردن ایندکس برای اطمینان از یکتا بودن آن)\n",
        "train_set,test_set= split_train_test_with_indentifier_hash(df.reset_index(),0.2,\"index\")"
      ]
    },
    {
      "cell_type": "markdown",
      "metadata": {
        "id": "s_WNirWKrBlK"
      },
      "source": [
        "ما از ایندکس ردیف‌ها  به‌عنوان شناسه‌ی منحصربه‌ فرد استفاده کردیم. اما مشکلش اینه:\n",
        "\n",
        "\n",
        "*   اگر ترتیب یا محتوای ردیف‌ها در آینده تغییر کنه (مثلاً به خاطر حذف یا اضافه‌ی ردیف)، ایندکس‌ها هم تغییر می‌کنن.\n",
        "\n",
        "\n",
        "*   در نتیجه، تقسیم train/test شما در دفعات بعدی ممکنه فرق کنه.\n",
        "\n",
        "\n",
        "*   این یعنی: نشتی داده (data leakage) ممکنه رخ بده، یا نتیجه مدل ناپایدار بشه.\n",
        "\n",
        "\n",
        "\n",
        "\n",
        "\n"
      ]
    },
    {
      "cell_type": "markdown",
      "metadata": {
        "id": "b4oK-n8aodr8"
      },
      "source": [
        "#   (latitude) و (longitude)روش دقیق‌تر برای تعریف شناسه‌ها بر اساس   "
      ]
    },
    {
      "cell_type": "code",
      "execution_count": 158,
      "metadata": {
        "colab": {
          "base_uri": "https://localhost:8080/",
          "height": 356
        },
        "id": "Vxs1008PtNpS",
        "outputId": "73f47064-9470-43e3-cdeb-e78920843211"
      },
      "outputs": [],
      "source": [
        "df_with_identifier = df.copy()\n",
        "# ایجاد یک ستون شناسه جدید با ترکیب longitude و latitude (برای یکتاسازی هر موقعیت مکانی)\n",
        "df_with_identifier[\"identifier\"] = df[\"longitude\"] * 1000 + df[\"latitude\"]\n",
        "\n",
        "# استفاده از همان تابع قبلی برای تقسیم داده بر اساس این شناسه جدید\n",
        "train_set, test_set = split_train_test_with_indentifier_hash(df_with_identifier, 0.2, \"identifier\")"
      ]
    },
    {
      "cell_type": "markdown",
      "metadata": {
        "id": "wP0kD7h2uBnm"
      },
      "source": [
        "ما از مختصات جغرافیایی به‌عنوان مبنای شناسه استفاده کردیم. این کار چه مزایایی داره؟\n",
        "\n",
        "*  ترکیب این دو ویژگی معمولاً برای هر خانه یکتا هست (یا حداقل نزدیک به یکتا).\n",
        "*    اگر داده‌ها جابه‌جا یا شافل بشن، شناسه‌ها تغییر نمی‌کنن.\n",
        "*   تضمین می‌کنه که همیشه یک نمونه‌ی خاص یا مشابه در یک مجموعه (train یا test) باقی بمونه.\n",
        "\n",
        "\n",
        "\n"
      ]
    },
    {
      "cell_type": "code",
      "execution_count": 159,
      "metadata": {
        "colab": {
          "base_uri": "https://localhost:8080/",
          "height": 443
        },
        "id": "l5q-gbMW_EbJ",
        "outputId": "def9a35e-c545-498e-c76a-f78ac03a204c"
      },
      "outputs": [
        {
          "data": {
            "text/html": [
              "<div>\n",
              "<style scoped>\n",
              "    .dataframe tbody tr th:only-of-type {\n",
              "        vertical-align: middle;\n",
              "    }\n",
              "\n",
              "    .dataframe tbody tr th {\n",
              "        vertical-align: top;\n",
              "    }\n",
              "\n",
              "    .dataframe thead th {\n",
              "        text-align: right;\n",
              "    }\n",
              "</style>\n",
              "<table border=\"1\" class=\"dataframe\">\n",
              "  <thead>\n",
              "    <tr style=\"text-align: right;\">\n",
              "      <th></th>\n",
              "      <th>longitude</th>\n",
              "      <th>latitude</th>\n",
              "      <th>housing_median_age</th>\n",
              "      <th>total_rooms</th>\n",
              "      <th>total_bedrooms</th>\n",
              "      <th>population</th>\n",
              "      <th>households</th>\n",
              "      <th>median_income</th>\n",
              "      <th>median_house_value</th>\n",
              "      <th>ocean_proximity</th>\n",
              "      <th>identifier</th>\n",
              "    </tr>\n",
              "  </thead>\n",
              "  <tbody>\n",
              "    <tr>\n",
              "      <th>59</th>\n",
              "      <td>-122.29</td>\n",
              "      <td>37.82</td>\n",
              "      <td>2.0</td>\n",
              "      <td>158.0</td>\n",
              "      <td>43.0</td>\n",
              "      <td>94.0</td>\n",
              "      <td>57.0</td>\n",
              "      <td>2.5625</td>\n",
              "      <td>60000.0</td>\n",
              "      <td>NEAR BAY</td>\n",
              "      <td>-122252.18</td>\n",
              "    </tr>\n",
              "    <tr>\n",
              "      <th>60</th>\n",
              "      <td>-122.29</td>\n",
              "      <td>37.83</td>\n",
              "      <td>52.0</td>\n",
              "      <td>1121.0</td>\n",
              "      <td>211.0</td>\n",
              "      <td>554.0</td>\n",
              "      <td>187.0</td>\n",
              "      <td>3.3929</td>\n",
              "      <td>75700.0</td>\n",
              "      <td>NEAR BAY</td>\n",
              "      <td>-122252.17</td>\n",
              "    </tr>\n",
              "    <tr>\n",
              "      <th>61</th>\n",
              "      <td>-122.29</td>\n",
              "      <td>37.82</td>\n",
              "      <td>49.0</td>\n",
              "      <td>135.0</td>\n",
              "      <td>29.0</td>\n",
              "      <td>86.0</td>\n",
              "      <td>23.0</td>\n",
              "      <td>6.1183</td>\n",
              "      <td>75000.0</td>\n",
              "      <td>NEAR BAY</td>\n",
              "      <td>-122252.18</td>\n",
              "    </tr>\n",
              "    <tr>\n",
              "      <th>62</th>\n",
              "      <td>-122.29</td>\n",
              "      <td>37.81</td>\n",
              "      <td>50.0</td>\n",
              "      <td>760.0</td>\n",
              "      <td>190.0</td>\n",
              "      <td>377.0</td>\n",
              "      <td>122.0</td>\n",
              "      <td>0.9011</td>\n",
              "      <td>86100.0</td>\n",
              "      <td>NEAR BAY</td>\n",
              "      <td>-122252.19</td>\n",
              "    </tr>\n",
              "    <tr>\n",
              "      <th>67</th>\n",
              "      <td>-122.29</td>\n",
              "      <td>37.80</td>\n",
              "      <td>52.0</td>\n",
              "      <td>1027.0</td>\n",
              "      <td>244.0</td>\n",
              "      <td>492.0</td>\n",
              "      <td>147.0</td>\n",
              "      <td>2.6094</td>\n",
              "      <td>81300.0</td>\n",
              "      <td>NEAR BAY</td>\n",
              "      <td>-122252.20</td>\n",
              "    </tr>\n",
              "    <tr>\n",
              "      <th>...</th>\n",
              "      <td>...</td>\n",
              "      <td>...</td>\n",
              "      <td>...</td>\n",
              "      <td>...</td>\n",
              "      <td>...</td>\n",
              "      <td>...</td>\n",
              "      <td>...</td>\n",
              "      <td>...</td>\n",
              "      <td>...</td>\n",
              "      <td>...</td>\n",
              "      <td>...</td>\n",
              "    </tr>\n",
              "    <tr>\n",
              "      <th>20616</th>\n",
              "      <td>-121.53</td>\n",
              "      <td>39.08</td>\n",
              "      <td>15.0</td>\n",
              "      <td>1810.0</td>\n",
              "      <td>441.0</td>\n",
              "      <td>1157.0</td>\n",
              "      <td>375.0</td>\n",
              "      <td>2.0469</td>\n",
              "      <td>55100.0</td>\n",
              "      <td>INLAND</td>\n",
              "      <td>-121490.92</td>\n",
              "    </tr>\n",
              "    <tr>\n",
              "      <th>20617</th>\n",
              "      <td>-121.53</td>\n",
              "      <td>39.06</td>\n",
              "      <td>20.0</td>\n",
              "      <td>561.0</td>\n",
              "      <td>109.0</td>\n",
              "      <td>308.0</td>\n",
              "      <td>114.0</td>\n",
              "      <td>3.3021</td>\n",
              "      <td>70800.0</td>\n",
              "      <td>INLAND</td>\n",
              "      <td>-121490.94</td>\n",
              "    </tr>\n",
              "    <tr>\n",
              "      <th>20618</th>\n",
              "      <td>-121.55</td>\n",
              "      <td>39.06</td>\n",
              "      <td>25.0</td>\n",
              "      <td>1332.0</td>\n",
              "      <td>247.0</td>\n",
              "      <td>726.0</td>\n",
              "      <td>226.0</td>\n",
              "      <td>2.2500</td>\n",
              "      <td>63400.0</td>\n",
              "      <td>INLAND</td>\n",
              "      <td>-121510.94</td>\n",
              "    </tr>\n",
              "    <tr>\n",
              "      <th>20632</th>\n",
              "      <td>-121.45</td>\n",
              "      <td>39.26</td>\n",
              "      <td>15.0</td>\n",
              "      <td>2319.0</td>\n",
              "      <td>416.0</td>\n",
              "      <td>1047.0</td>\n",
              "      <td>385.0</td>\n",
              "      <td>3.1250</td>\n",
              "      <td>115600.0</td>\n",
              "      <td>INLAND</td>\n",
              "      <td>-121410.74</td>\n",
              "    </tr>\n",
              "    <tr>\n",
              "      <th>20633</th>\n",
              "      <td>-121.53</td>\n",
              "      <td>39.19</td>\n",
              "      <td>27.0</td>\n",
              "      <td>2080.0</td>\n",
              "      <td>412.0</td>\n",
              "      <td>1082.0</td>\n",
              "      <td>382.0</td>\n",
              "      <td>2.5495</td>\n",
              "      <td>98300.0</td>\n",
              "      <td>INLAND</td>\n",
              "      <td>-121490.81</td>\n",
              "    </tr>\n",
              "  </tbody>\n",
              "</table>\n",
              "<p>4318 rows × 11 columns</p>\n",
              "</div>"
            ],
            "text/plain": [
              "       longitude  latitude  housing_median_age  total_rooms  total_bedrooms  \\\n",
              "59       -122.29     37.82                 2.0        158.0            43.0   \n",
              "60       -122.29     37.83                52.0       1121.0           211.0   \n",
              "61       -122.29     37.82                49.0        135.0            29.0   \n",
              "62       -122.29     37.81                50.0        760.0           190.0   \n",
              "67       -122.29     37.80                52.0       1027.0           244.0   \n",
              "...          ...       ...                 ...          ...             ...   \n",
              "20616    -121.53     39.08                15.0       1810.0           441.0   \n",
              "20617    -121.53     39.06                20.0        561.0           109.0   \n",
              "20618    -121.55     39.06                25.0       1332.0           247.0   \n",
              "20632    -121.45     39.26                15.0       2319.0           416.0   \n",
              "20633    -121.53     39.19                27.0       2080.0           412.0   \n",
              "\n",
              "       population  households  median_income  median_house_value  \\\n",
              "59           94.0        57.0         2.5625             60000.0   \n",
              "60          554.0       187.0         3.3929             75700.0   \n",
              "61           86.0        23.0         6.1183             75000.0   \n",
              "62          377.0       122.0         0.9011             86100.0   \n",
              "67          492.0       147.0         2.6094             81300.0   \n",
              "...           ...         ...            ...                 ...   \n",
              "20616      1157.0       375.0         2.0469             55100.0   \n",
              "20617       308.0       114.0         3.3021             70800.0   \n",
              "20618       726.0       226.0         2.2500             63400.0   \n",
              "20632      1047.0       385.0         3.1250            115600.0   \n",
              "20633      1082.0       382.0         2.5495             98300.0   \n",
              "\n",
              "      ocean_proximity  identifier  \n",
              "59           NEAR BAY  -122252.18  \n",
              "60           NEAR BAY  -122252.17  \n",
              "61           NEAR BAY  -122252.18  \n",
              "62           NEAR BAY  -122252.19  \n",
              "67           NEAR BAY  -122252.20  \n",
              "...               ...         ...  \n",
              "20616          INLAND  -121490.92  \n",
              "20617          INLAND  -121490.94  \n",
              "20618          INLAND  -121510.94  \n",
              "20632          INLAND  -121410.74  \n",
              "20633          INLAND  -121490.81  \n",
              "\n",
              "[4318 rows x 11 columns]"
            ]
          },
          "execution_count": 159,
          "metadata": {},
          "output_type": "execute_result"
        }
      ],
      "source": [
        "test_set"
      ]
    },
    {
      "cell_type": "markdown",
      "metadata": {
        "id": "xjkDCm29KoqL"
      },
      "source": [
        "این خط زیر معادل تابع shuffle_and_split_df است\n"
      ]
    },
    {
      "cell_type": "code",
      "execution_count": 160,
      "metadata": {
        "id": "sur_Q3c2KFCk"
      },
      "outputs": [],
      "source": [
        "from sklearn.model_selection import train_test_split\n",
        "train_set,test_set=train_test_split(df,test_size=0.2,random_state=40)"
      ]
    },
    {
      "cell_type": "markdown",
      "metadata": {
        "id": "iz0rLpS1ZcLv"
      },
      "source": [
        " #Stratified Sampling \n",
        " شاید داده های ما مثلا در چند کلاس مختلف باشد و باید کاری کرد که مقدار مساوی به ترین و تست برود . اگر به روش قبلی پیش رویم شاید کل داده های یک کلاس وارد ترین شود که این یک مشکل است"
      ]
    },
    {
      "cell_type": "code",
      "execution_count": 161,
      "metadata": {
        "id": "rKlMpAWSWc7F"
      },
      "outputs": [],
      "source": [
        "#روش اول\n",
        "## با استفاده از تابع cut ستون median_income را به چند بازه دسته‌بندی می‌کنیم\n",
        "df[\"median_income_categories_1\"]=pd.cut(df[\"median_income\"],\n",
        "                                      bins=[0.0,1.5,3,4.5,6,np.inf]# تعریف بازه‌ها\n",
        "                                      ,labels=[1,2,3,4,5])# برچسب‌گذاری برای هر بازه\n",
        "\n",
        "\n"
      ]
    },
    {
      "cell_type": "code",
      "execution_count": 162,
      "metadata": {},
      "outputs": [],
      "source": [
        "#روش دوم\n",
        "# دسته‌بندی ستون 'median_income' به ۷ قسمت با تعداد نمونه مساوی در هر بخش (بر اساس صدک‌ها)\n",
        "df[\"median_income_categories_2\"]=pd.qcut(df[\"median_income\"],q=5)"
      ]
    },
    {
      "cell_type": "code",
      "execution_count": 163,
      "metadata": {
        "colab": {
          "base_uri": "https://localhost:8080/",
          "height": 443
        },
        "collapsed": true,
        "id": "l6l1U2x1Xq21",
        "outputId": "973d77a4-00d7-4bd8-990b-c1a369d402ca"
      },
      "outputs": [
        {
          "data": {
            "text/html": [
              "<div>\n",
              "<style scoped>\n",
              "    .dataframe tbody tr th:only-of-type {\n",
              "        vertical-align: middle;\n",
              "    }\n",
              "\n",
              "    .dataframe tbody tr th {\n",
              "        vertical-align: top;\n",
              "    }\n",
              "\n",
              "    .dataframe thead th {\n",
              "        text-align: right;\n",
              "    }\n",
              "</style>\n",
              "<table border=\"1\" class=\"dataframe\">\n",
              "  <thead>\n",
              "    <tr style=\"text-align: right;\">\n",
              "      <th></th>\n",
              "      <th>longitude</th>\n",
              "      <th>latitude</th>\n",
              "      <th>housing_median_age</th>\n",
              "      <th>total_rooms</th>\n",
              "      <th>total_bedrooms</th>\n",
              "      <th>population</th>\n",
              "      <th>households</th>\n",
              "      <th>median_income</th>\n",
              "      <th>median_house_value</th>\n",
              "      <th>ocean_proximity</th>\n",
              "      <th>median_income_categories_1</th>\n",
              "      <th>median_income_categories_2</th>\n",
              "    </tr>\n",
              "  </thead>\n",
              "  <tbody>\n",
              "    <tr>\n",
              "      <th>0</th>\n",
              "      <td>-122.23</td>\n",
              "      <td>37.88</td>\n",
              "      <td>41.0</td>\n",
              "      <td>880.0</td>\n",
              "      <td>129.0</td>\n",
              "      <td>322.0</td>\n",
              "      <td>126.0</td>\n",
              "      <td>8.3252</td>\n",
              "      <td>452600.0</td>\n",
              "      <td>NEAR BAY</td>\n",
              "      <td>5</td>\n",
              "      <td>(5.11, 15.0]</td>\n",
              "    </tr>\n",
              "    <tr>\n",
              "      <th>1</th>\n",
              "      <td>-122.22</td>\n",
              "      <td>37.86</td>\n",
              "      <td>21.0</td>\n",
              "      <td>7099.0</td>\n",
              "      <td>1106.0</td>\n",
              "      <td>2401.0</td>\n",
              "      <td>1138.0</td>\n",
              "      <td>8.3014</td>\n",
              "      <td>358500.0</td>\n",
              "      <td>NEAR BAY</td>\n",
              "      <td>5</td>\n",
              "      <td>(5.11, 15.0]</td>\n",
              "    </tr>\n",
              "    <tr>\n",
              "      <th>2</th>\n",
              "      <td>-122.24</td>\n",
              "      <td>37.85</td>\n",
              "      <td>52.0</td>\n",
              "      <td>1467.0</td>\n",
              "      <td>190.0</td>\n",
              "      <td>496.0</td>\n",
              "      <td>177.0</td>\n",
              "      <td>7.2574</td>\n",
              "      <td>352100.0</td>\n",
              "      <td>NEAR BAY</td>\n",
              "      <td>5</td>\n",
              "      <td>(5.11, 15.0]</td>\n",
              "    </tr>\n",
              "    <tr>\n",
              "      <th>3</th>\n",
              "      <td>-122.25</td>\n",
              "      <td>37.85</td>\n",
              "      <td>52.0</td>\n",
              "      <td>1274.0</td>\n",
              "      <td>235.0</td>\n",
              "      <td>558.0</td>\n",
              "      <td>219.0</td>\n",
              "      <td>5.6431</td>\n",
              "      <td>341300.0</td>\n",
              "      <td>NEAR BAY</td>\n",
              "      <td>4</td>\n",
              "      <td>(5.11, 15.0]</td>\n",
              "    </tr>\n",
              "    <tr>\n",
              "      <th>4</th>\n",
              "      <td>-122.25</td>\n",
              "      <td>37.85</td>\n",
              "      <td>52.0</td>\n",
              "      <td>1627.0</td>\n",
              "      <td>280.0</td>\n",
              "      <td>565.0</td>\n",
              "      <td>259.0</td>\n",
              "      <td>3.8462</td>\n",
              "      <td>342200.0</td>\n",
              "      <td>NEAR BAY</td>\n",
              "      <td>3</td>\n",
              "      <td>(3.141, 3.967]</td>\n",
              "    </tr>\n",
              "    <tr>\n",
              "      <th>...</th>\n",
              "      <td>...</td>\n",
              "      <td>...</td>\n",
              "      <td>...</td>\n",
              "      <td>...</td>\n",
              "      <td>...</td>\n",
              "      <td>...</td>\n",
              "      <td>...</td>\n",
              "      <td>...</td>\n",
              "      <td>...</td>\n",
              "      <td>...</td>\n",
              "      <td>...</td>\n",
              "      <td>...</td>\n",
              "    </tr>\n",
              "    <tr>\n",
              "      <th>20635</th>\n",
              "      <td>-121.09</td>\n",
              "      <td>39.48</td>\n",
              "      <td>25.0</td>\n",
              "      <td>1665.0</td>\n",
              "      <td>374.0</td>\n",
              "      <td>845.0</td>\n",
              "      <td>330.0</td>\n",
              "      <td>1.5603</td>\n",
              "      <td>78100.0</td>\n",
              "      <td>INLAND</td>\n",
              "      <td>2</td>\n",
              "      <td>(0.499, 2.352]</td>\n",
              "    </tr>\n",
              "    <tr>\n",
              "      <th>20636</th>\n",
              "      <td>-121.21</td>\n",
              "      <td>39.49</td>\n",
              "      <td>18.0</td>\n",
              "      <td>697.0</td>\n",
              "      <td>150.0</td>\n",
              "      <td>356.0</td>\n",
              "      <td>114.0</td>\n",
              "      <td>2.5568</td>\n",
              "      <td>77100.0</td>\n",
              "      <td>INLAND</td>\n",
              "      <td>2</td>\n",
              "      <td>(2.352, 3.141]</td>\n",
              "    </tr>\n",
              "    <tr>\n",
              "      <th>20637</th>\n",
              "      <td>-121.22</td>\n",
              "      <td>39.43</td>\n",
              "      <td>17.0</td>\n",
              "      <td>2254.0</td>\n",
              "      <td>485.0</td>\n",
              "      <td>1007.0</td>\n",
              "      <td>433.0</td>\n",
              "      <td>1.7000</td>\n",
              "      <td>92300.0</td>\n",
              "      <td>INLAND</td>\n",
              "      <td>2</td>\n",
              "      <td>(0.499, 2.352]</td>\n",
              "    </tr>\n",
              "    <tr>\n",
              "      <th>20638</th>\n",
              "      <td>-121.32</td>\n",
              "      <td>39.43</td>\n",
              "      <td>18.0</td>\n",
              "      <td>1860.0</td>\n",
              "      <td>409.0</td>\n",
              "      <td>741.0</td>\n",
              "      <td>349.0</td>\n",
              "      <td>1.8672</td>\n",
              "      <td>84700.0</td>\n",
              "      <td>INLAND</td>\n",
              "      <td>2</td>\n",
              "      <td>(0.499, 2.352]</td>\n",
              "    </tr>\n",
              "    <tr>\n",
              "      <th>20639</th>\n",
              "      <td>-121.24</td>\n",
              "      <td>39.37</td>\n",
              "      <td>16.0</td>\n",
              "      <td>2785.0</td>\n",
              "      <td>616.0</td>\n",
              "      <td>1387.0</td>\n",
              "      <td>530.0</td>\n",
              "      <td>2.3886</td>\n",
              "      <td>89400.0</td>\n",
              "      <td>INLAND</td>\n",
              "      <td>2</td>\n",
              "      <td>(2.352, 3.141]</td>\n",
              "    </tr>\n",
              "  </tbody>\n",
              "</table>\n",
              "<p>20640 rows × 12 columns</p>\n",
              "</div>"
            ],
            "text/plain": [
              "       longitude  latitude  housing_median_age  total_rooms  total_bedrooms  \\\n",
              "0        -122.23     37.88                41.0        880.0           129.0   \n",
              "1        -122.22     37.86                21.0       7099.0          1106.0   \n",
              "2        -122.24     37.85                52.0       1467.0           190.0   \n",
              "3        -122.25     37.85                52.0       1274.0           235.0   \n",
              "4        -122.25     37.85                52.0       1627.0           280.0   \n",
              "...          ...       ...                 ...          ...             ...   \n",
              "20635    -121.09     39.48                25.0       1665.0           374.0   \n",
              "20636    -121.21     39.49                18.0        697.0           150.0   \n",
              "20637    -121.22     39.43                17.0       2254.0           485.0   \n",
              "20638    -121.32     39.43                18.0       1860.0           409.0   \n",
              "20639    -121.24     39.37                16.0       2785.0           616.0   \n",
              "\n",
              "       population  households  median_income  median_house_value  \\\n",
              "0           322.0       126.0         8.3252            452600.0   \n",
              "1          2401.0      1138.0         8.3014            358500.0   \n",
              "2           496.0       177.0         7.2574            352100.0   \n",
              "3           558.0       219.0         5.6431            341300.0   \n",
              "4           565.0       259.0         3.8462            342200.0   \n",
              "...           ...         ...            ...                 ...   \n",
              "20635       845.0       330.0         1.5603             78100.0   \n",
              "20636       356.0       114.0         2.5568             77100.0   \n",
              "20637      1007.0       433.0         1.7000             92300.0   \n",
              "20638       741.0       349.0         1.8672             84700.0   \n",
              "20639      1387.0       530.0         2.3886             89400.0   \n",
              "\n",
              "      ocean_proximity median_income_categories_1 median_income_categories_2  \n",
              "0            NEAR BAY                          5               (5.11, 15.0]  \n",
              "1            NEAR BAY                          5               (5.11, 15.0]  \n",
              "2            NEAR BAY                          5               (5.11, 15.0]  \n",
              "3            NEAR BAY                          4               (5.11, 15.0]  \n",
              "4            NEAR BAY                          3             (3.141, 3.967]  \n",
              "...               ...                        ...                        ...  \n",
              "20635          INLAND                          2             (0.499, 2.352]  \n",
              "20636          INLAND                          2             (2.352, 3.141]  \n",
              "20637          INLAND                          2             (0.499, 2.352]  \n",
              "20638          INLAND                          2             (0.499, 2.352]  \n",
              "20639          INLAND                          2             (2.352, 3.141]  \n",
              "\n",
              "[20640 rows x 12 columns]"
            ]
          },
          "execution_count": 163,
          "metadata": {},
          "output_type": "execute_result"
        }
      ],
      "source": [
        "df"
      ]
    },
    {
      "cell_type": "code",
      "execution_count": 164,
      "metadata": {
        "colab": {
          "base_uri": "https://localhost:8080/",
          "height": 461
        },
        "id": "EIY7fSTpX-SD",
        "outputId": "fbc7274c-e30c-4246-f901-b1e0e4deb77b"
      },
      "outputs": [
        {
          "data": {
            "text/plain": [
              "<Axes: xlabel='median_income_categories_1'>"
            ]
          },
          "execution_count": 164,
          "metadata": {},
          "output_type": "execute_result"
        },
        {
          "data": {
            "image/png": "[encoded data removed]",
            "text/plain": [
              "<Figure size 640x480 with 1 Axes>"
            ]
          },
          "metadata": {},
          "output_type": "display_data"
        }
      ],
      "source": [
        "# محاسبه و نمایش تعداد نمونه‌های هر دسته به صورت نمودار ستونی برای بررسی توزیع برای روش اول\n",
        "df[\"median_income_categories_1\"].value_counts().sort_index().plot.bar(grid=True)"
      ]
    },
    {
      "cell_type": "code",
      "execution_count": 165,
      "metadata": {},
      "outputs": [
        {
          "data": {
            "text/plain": [
              "<Axes: xlabel='median_income_categories_2'>"
            ]
          },
          "execution_count": 165,
          "metadata": {},
          "output_type": "execute_result"
        },
        {
          "data": {
            "image/png": "[encoded data removed]",
            "text/plain": [
              "<Figure size 640x480 with 1 Axes>"
            ]
          },
          "metadata": {},
          "output_type": "display_data"
        }
      ],
      "source": [
        "# محاسبه و نمایش تعداد نمونه‌های هر دسته به صورت نمودار ستونی برای بررسی توزیع برای روش دوم\n",
        "df[\"median_income_categories_2\"].value_counts().sort_index().plot.bar(grid=True)"
      ]
    },
    {
      "cell_type": "code",
      "execution_count": 166,
      "metadata": {
        "id": "X0Xd9XU9aW8D"
      },
      "outputs": [],
      "source": [
        "# وارد کردن StratifiedShuffleSplit برای تقسیم داده‌ها به صورت لایه‌بندی شده (stratified)\n",
        "from sklearn.model_selection import StratifiedShuffleSplit"
      ]
    },
    {
      "cell_type": "code",
      "execution_count": 167,
      "metadata": {
        "id": "wE7GZtFUakEp"
      },
      "outputs": [],
      "source": [
        "# تقسیم داده‌ها به train و test با حفظ نسبت طبقات درآمدی (stratified sampling)\n",
        "#str_train_set , str_test_set=train_test_split(df,test_size=0.2,stratify=df[\"median_income_categories_1\"],random_state=40)\n",
        "# OR\n",
        "str_train_set , str_test_set=train_test_split(df,test_size=0.2,stratify=df[\"median_income_categories_2\"],random_state=40)\n",
        "#به دلیل اینکه نتیجه روش دوم بهتر است ما ازین روش استفاده خواهیم کرد"
      ]
    },
    {
      "cell_type": "code",
      "execution_count": 168,
      "metadata": {
        "id": "KOb2XZpwImYJ"
      },
      "outputs": [],
      "source": [
        "# حذف ستون 'median_income_categories' چون فقط برای دسته‌بندی اولیه استفاده شده و نیازی به آن در مدل نیست\n",
        "str_train_set=str_train_set.drop(\"median_income_categories_2\",axis=1)\n",
        "str_test_set=str_test_set.drop(\"median_income_categories_2\",axis=1)"
      ]
    },
    {
      "cell_type": "code",
      "execution_count": 169,
      "metadata": {
        "id": "5gk37CNrMhq-"
      },
      "outputs": [],
      "source": [
        "train=str_train_set"
      ]
    },
    {
      "cell_type": "code",
      "execution_count": 170,
      "metadata": {
        "colab": {
          "base_uri": "https://localhost:8080/",
          "height": 449
        },
        "id": "XIUJo-GmMkuf",
        "outputId": "42d64852-09e8-4d57-8140-17d1713362d0"
      },
      "outputs": [
        {
          "data": {
            "image/png": "[encoded data removed]",
            "text/plain": [
              "<Figure size 640x480 with 1 Axes>"
            ]
          },
          "metadata": {},
          "output_type": "display_data"
        }
      ],
      "source": [
        "# رسم نمودار پراکندگی (Scatter Plot) برای داده‌های آموزش\n",
        "# محور x: طول جغرافیایی (longitude)\n",
        "# محور y: عرض جغرافیایی (latitude)\n",
        "# اندازه نقاط با توجه به جمعیت (population) تنظیم شده است (نمایش اندازه جمعیت)\n",
        "# alpha=0.2 برای ایجاد شفافیت نقاط (نمایش بهتر نقاط همپوشان)\n",
        "# رنگ نقاط بر اساس مقدار median_house_value (میانگین قیمت خانه) تعیین می‌شود\n",
        "ax=sns.scatterplot(data=train,x=\"longitude\",y=\"latitude\",size=\"population\",alpha=0.2,hue=\"median_house_value\")\n",
        "\n",
        "# جابجایی جایگاه راهنمای رنگ (legend) به بالای چپ نمودار بیرون از قاب اصلی\n",
        "sns.move_legend(ax,\"upper left\",bbox_to_anchor=(1,1))"
      ]
    },
    {
      "cell_type": "code",
      "execution_count": 171,
      "metadata": {
        "colab": {
          "base_uri": "https://localhost:8080/",
          "height": 397
        },
        "id": "AZRvckzU9VKr",
        "outputId": "29984535-23d5-4c0f-abd3-b23c8f9fc829"
      },
      "outputs": [
        {
          "data": {
            "text/plain": [
              "longitude            -0.048843\n",
              "latitude             -0.141274\n",
              "housing_median_age    0.107151\n",
              "total_rooms           0.139538\n",
              "total_bedrooms        0.053411\n",
              "population           -0.019096\n",
              "households            0.070485\n",
              "median_income         0.687211\n",
              "median_house_value    1.000000\n",
              "Name: median_house_value, dtype: float64"
            ]
          },
          "execution_count": 171,
          "metadata": {},
          "output_type": "execute_result"
        }
      ],
      "source": [
        "train=train.select_dtypes(include=[np.number]) # انتخاب فقط ستون های عددی از دیتافریم (برای عملیات های آماری یا مدلسازی)\n",
        "\n",
        "# محاسبه ضریب همبستگی بین ستون‌های مختلف دیتافریم train و ستون هدف 'median_house_value'\n",
        "# نتیجه یک سری (Series) است که نشان می‌دهد هر ویژگی چقدر با قیمت میانه خانه همبسته است\n",
        "train.corr()[\"median_house_value\"]"
      ]
    },
    {
      "cell_type": "code",
      "execution_count": 172,
      "metadata": {
        "id": "aGPGVi2D_MpB"
      },
      "outputs": [],
      "source": [
        "# ایجاد ستون جدید 'rooms_per_house' که نسبت تعداد کل اتاق‌ها به تعداد خانوارها را نشان می‌دهد\n",
        "# این ویژگی بیانگر متوسط تعداد اتاق‌ها در هر خانه است و می‌تواند به مدل کمک کند\n",
        "#ویژگی‌های ترکیبی مثل این معمولاً در مدل‌های یادگیری ماشین کمک می‌کنند تا بهتر رابطه‌ها را درک کنند.\n",
        "train[\"rooms_per_house\"]=train[\"total_rooms\"]/train[\"households\"]"
      ]
    },
    {
      "cell_type": "markdown",
      "metadata": {
        "id": "euSlwfvbAIE2"
      },
      "source": [
        "# prepare data"
      ]
    },
    {
      "cell_type": "code",
      "execution_count": 173,
      "metadata": {
        "id": "NUSEq31AAMAd"
      },
      "outputs": [],
      "source": [
        "# حذف ستون هدف 'median_house_value' از دیتافریم train و ذخیره بقیه ستون‌ها در متغیر train_features\n",
        "train_features=train.drop(\"median_house_value\",axis=1)\n",
        "\n",
        "# ذخیره ستون هدف (قیمت میانه خانه) در متغیر جداگانه train_target برای آموزش مدل\n",
        "train_target=train[\"median_house_value\"]\n"
      ]
    },
    {
      "cell_type": "markdown",
      "metadata": {
        "id": "GPYs9gxGAtsJ"
      },
      "source": [
        "##Data cleaning"
      ]
    },
    {
      "cell_type": "code",
      "execution_count": 174,
      "metadata": {
        "colab": {
          "base_uri": "https://localhost:8080/"
        },
        "id": "iTsn-SzyAx96",
        "outputId": "786638ba-3a4b-4bf8-c603-686cd71a1a47"
      },
      "outputs": [
        {
          "name": "stdout",
          "output_type": "stream",
          "text": [
            "<class 'pandas.core.frame.DataFrame'>\n",
            "Index: 16512 entries, 12288 to 4561\n",
            "Data columns (total 9 columns):\n",
            " #   Column              Non-Null Count  Dtype  \n",
            "---  ------              --------------  -----  \n",
            " 0   longitude           16512 non-null  float64\n",
            " 1   latitude            16512 non-null  float64\n",
            " 2   housing_median_age  16512 non-null  float64\n",
            " 3   total_rooms         16512 non-null  float64\n",
            " 4   total_bedrooms      16346 non-null  float64\n",
            " 5   population          16512 non-null  float64\n",
            " 6   households          16512 non-null  float64\n",
            " 7   median_income       16512 non-null  float64\n",
            " 8   rooms_per_house     16512 non-null  float64\n",
            "dtypes: float64(9)\n",
            "memory usage: 1.3 MB\n"
          ]
        }
      ],
      "source": [
        "train_features.info()"
      ]
    },
    {
      "cell_type": "markdown",
      "metadata": {},
      "source": [
        "# remove rows with NA values"
      ]
    },
    {
      "cell_type": "code",
      "execution_count": 175,
      "metadata": {
        "colab": {
          "base_uri": "https://localhost:8080/"
        },
        "id": "e8qgilsjHpVv",
        "outputId": "eb041dd3-220a-42f4-afbb-fa753adeab3d"
      },
      "outputs": [
        {
          "name": "stdout",
          "output_type": "stream",
          "text": [
            "<class 'pandas.core.frame.DataFrame'>\n",
            "Index: 16346 entries, 12288 to 4561\n",
            "Data columns (total 9 columns):\n",
            " #   Column              Non-Null Count  Dtype  \n",
            "---  ------              --------------  -----  \n",
            " 0   longitude           16346 non-null  float64\n",
            " 1   latitude            16346 non-null  float64\n",
            " 2   housing_median_age  16346 non-null  float64\n",
            " 3   total_rooms         16346 non-null  float64\n",
            " 4   total_bedrooms      16346 non-null  float64\n",
            " 5   population          16346 non-null  float64\n",
            " 6   households          16346 non-null  float64\n",
            " 7   median_income       16346 non-null  float64\n",
            " 8   rooms_per_house     16346 non-null  float64\n",
            "dtypes: float64(9)\n",
            "memory usage: 1.2 MB\n"
          ]
        }
      ],
      "source": [
        "\n",
        "# حذف ردیف‌هایی که در ستون 'total_bedrooms' مقدار گمشده (NaN) دارند\n",
        "# و نمایش اطلاعات کلی (مثل تعداد ردیف و ستون، نوع داده‌ها) از دیتافریم پس از حذف این ردیف‌ها\n",
        "train_features.dropna(subset=[\"total_bedrooms\"]).info()"
      ]
    },
    {
      "cell_type": "markdown",
      "metadata": {},
      "source": [
        "#train_features_with_imputed_na_values"
      ]
    },
    {
      "cell_type": "code",
      "execution_count": 176,
      "metadata": {
        "colab": {
          "base_uri": "https://localhost:8080/"
        },
        "id": "9WYag5wVJV2i",
        "outputId": "4d0f939e-67d2-434f-9a4b-a6a97be21cf4"
      },
      "outputs": [
        {
          "name": "stdout",
          "output_type": "stream",
          "text": [
            "<class 'pandas.core.frame.DataFrame'>\n",
            "Index: 16512 entries, 12288 to 4561\n",
            "Data columns (total 9 columns):\n",
            " #   Column              Non-Null Count  Dtype  \n",
            "---  ------              --------------  -----  \n",
            " 0   longitude           16512 non-null  float64\n",
            " 1   latitude            16512 non-null  float64\n",
            " 2   housing_median_age  16512 non-null  float64\n",
            " 3   total_rooms         16512 non-null  float64\n",
            " 4   total_bedrooms      16512 non-null  float64\n",
            " 5   population          16512 non-null  float64\n",
            " 6   households          16512 non-null  float64\n",
            " 7   median_income       16512 non-null  float64\n",
            " 8   rooms_per_house     16512 non-null  float64\n",
            "dtypes: float64(9)\n",
            "memory usage: 1.3 MB\n"
          ]
        }
      ],
      "source": [
        "# محاسبه میانه ستون 'total_bedrooms' برای استفاده در جایگزینی مقادیر گمشده\n",
        "total_bedrooms_median=train_features[\"total_bedrooms\"].median()\n",
        "\n",
        "# جایگزینی مقادیر NaN در ستون 'total_bedrooms' با مقدار میانه محاسبه شده\n",
        "train_features[\"total_bedrooms\"]=train_features[\"total_bedrooms\"].fillna(total_bedrooms_median)\n",
        "train_features.info() \n"
      ]
    },
    {
      "cell_type": "code",
      "execution_count": 177,
      "metadata": {
        "id": "gHEXRvNyT-7R"
      },
      "outputs": [],
      "source": [
        "# وارد کردن کلاس SimpleImputer از کتابخانه sklearn برای پر کردن مقادیر گمشده در داده‌ها\n",
        "from sklearn.impute import SimpleImputer\n"
      ]
    },
    {
      "cell_type": "code",
      "execution_count": 178,
      "metadata": {},
      "outputs": [
        {
          "name": "stdout",
          "output_type": "stream",
          "text": [
            "<class 'pandas.core.frame.DataFrame'>\n",
            "Index: 16512 entries, 12288 to 4561\n",
            "Data columns (total 9 columns):\n",
            " #   Column              Non-Null Count  Dtype  \n",
            "---  ------              --------------  -----  \n",
            " 0   longitude           16512 non-null  float64\n",
            " 1   latitude            16512 non-null  float64\n",
            " 2   housing_median_age  16512 non-null  float64\n",
            " 3   total_rooms         16512 non-null  float64\n",
            " 4   total_bedrooms      16346 non-null  float64\n",
            " 5   population          16512 non-null  float64\n",
            " 6   households          16512 non-null  float64\n",
            " 7   median_income       16512 non-null  float64\n",
            " 8   rooms_per_house     16512 non-null  float64\n",
            "dtypes: float64(9)\n",
            "memory usage: 1.3 MB\n"
          ]
        }
      ],
      "source": [
        "#چون قرار است با روش دیگری مقادیر گمشده را پر کنیم پس نیاز است ویژگی های آموزش را دوباره بازنویسی کنیم که بتوان روش جدید را روی آن پیاده سازی کرد\n",
        "train_features=train.drop(\"median_house_value\",axis=1)\n",
        "train_features.info()"
      ]
    },
    {
      "cell_type": "code",
      "execution_count": 179,
      "metadata": {
        "colab": {
          "background_save": true
        },
        "id": "-WZb9ZMRUKpM"
      },
      "outputs": [],
      "source": [
        "# ساخت یک شیء SimpleImputer با استراتژی جایگزینی مقدار گمشده بر اساس میانه ستون‌ها\n",
        "simpel_impute=SimpleImputer(strategy=\"median\")\n",
        "#strategy=\"median\" مشخص می‌کند که برای هر ستون عددی، مقادیر گمشده با میانه آن ستون پر شوند.\n"
      ]
    },
    {
      "cell_type": "code",
      "execution_count": 180,
      "metadata": {},
      "outputs": [
        {
          "name": "stdout",
          "output_type": "stream",
          "text": [
            "<class 'pandas.core.frame.DataFrame'>\n",
            "Index: 16512 entries, 12288 to 4561\n",
            "Data columns (total 9 columns):\n",
            " #   Column              Non-Null Count  Dtype  \n",
            "---  ------              --------------  -----  \n",
            " 0   longitude           16512 non-null  float64\n",
            " 1   latitude            16512 non-null  float64\n",
            " 2   housing_median_age  16512 non-null  float64\n",
            " 3   total_rooms         16512 non-null  float64\n",
            " 4   total_bedrooms      16346 non-null  float64\n",
            " 5   population          16512 non-null  float64\n",
            " 6   households          16512 non-null  float64\n",
            " 7   median_income       16512 non-null  float64\n",
            " 8   rooms_per_house     16512 non-null  float64\n",
            "dtypes: float64(9)\n",
            "memory usage: 1.3 MB\n"
          ]
        }
      ],
      "source": [
        "train_features.info()"
      ]
    },
    {
      "cell_type": "code",
      "execution_count": 181,
      "metadata": {
        "colab": {
          "base_uri": "https://localhost:8080/"
        },
        "id": "CyvJEo0_YumS",
        "outputId": "2baad98c-8650-4d2f-ecbb-047422314eb5"
      },
      "outputs": [
        {
          "name": "stdout",
          "output_type": "stream",
          "text": [
            "<class 'pandas.core.frame.DataFrame'>\n",
            "Index: 16512 entries, 12288 to 4561\n",
            "Data columns (total 9 columns):\n",
            " #   Column              Non-Null Count  Dtype  \n",
            "---  ------              --------------  -----  \n",
            " 0   longitude           16512 non-null  float64\n",
            " 1   latitude            16512 non-null  float64\n",
            " 2   housing_median_age  16512 non-null  float64\n",
            " 3   total_rooms         16512 non-null  float64\n",
            " 4   total_bedrooms      16346 non-null  float64\n",
            " 5   population          16512 non-null  float64\n",
            " 6   households          16512 non-null  float64\n",
            " 7   median_income       16512 non-null  float64\n",
            " 8   rooms_per_house     16512 non-null  float64\n",
            "dtypes: float64(9)\n",
            "memory usage: 1.3 MB\n"
          ]
        }
      ],
      "source": [
        "# انتخاب فقط ستون های عددی از دیتافریم (برای عملیات های آماری یا مدلسازی)\n",
        "train_features_numberic=train_features.select_dtypes(include=[np.number])\n",
        "train_features_numberic.info()\n"
      ]
    },
    {
      "cell_type": "code",
      "execution_count": 182,
      "metadata": {
        "colab": {
          "base_uri": "https://localhost:8080/",
          "height": 80
        },
        "id": "e5LVq_tkZRqS",
        "outputId": "eb12a089-b033-4a85-bc63-4e5ab6afe9c1"
      },
      "outputs": [
        {
          "name": "stdout",
          "output_type": "stream",
          "text": [
            "[-118.48         34.25         29.         2121.          434.\n",
            " 1165.          409.            3.5313        5.22562903]\n",
            "[-118.48         34.25         29.         2121.          434.\n",
            " 1165.          409.            3.5313        5.22562903]\n"
          ]
        }
      ],
      "source": [
        "# آموزش (fit) ایمپیوتر با استراتژی 'median' روی داده‌های عددی دیتافریم train_features_numeric\n",
        "simpel_impute.fit(train_features_numberic)\n",
        "\n",
        "# نمایش مقادیر میانه هر ستون که برای جایگزینی مقادیر NaN یاد گرفته شده است\n",
        "print(simpel_impute.statistics_)\n",
        "\n",
        "# محاسبه و نمایش میانه هر ستون به صورت مستقیم با pandas برای مقایسه\n",
        "print(train_features_numberic.median().values)"
      ]
    },
    {
      "cell_type": "code",
      "execution_count": 183,
      "metadata": {},
      "outputs": [
        {
          "data": {
            "text/plain": [
              "array([[-116.98      ,   33.94      ,   27.        , ...,  654.        ,\n",
              "           3.4545    ,    5.28899083],\n",
              "       [-118.2       ,   33.9       ,   26.        , ...,  263.        ,\n",
              "           2.12      ,    3.80228137],\n",
              "       [-117.37      ,   33.2       ,   29.        , ...,  306.        ,\n",
              "           2.0272    ,    4.29738562],\n",
              "       ...,\n",
              "       [-118.14      ,   33.79      ,   44.        , ...,  592.        ,\n",
              "           3.1711    ,    4.03378378],\n",
              "       [-121.4       ,   38.56      ,   22.        , ...,  368.        ,\n",
              "           7.143     ,    7.12771739],\n",
              "       [-118.25      ,   34.06      ,   52.        , ...,   57.        ,\n",
              "           1.7763    ,    3.05263158]])"
            ]
          },
          "execution_count": 183,
          "metadata": {},
          "output_type": "execute_result"
        }
      ],
      "source": [
        "# اعمال تبدیل ایمپیوت کردن روی داده‌های عددی برای جایگزینی مقادیر NaN با میانه هر ستون\n",
        "simpel_impute.transform(train_features_numberic)"
      ]
    },
    {
      "cell_type": "code",
      "execution_count": 184,
      "metadata": {},
      "outputs": [
        {
          "name": "stdout",
          "output_type": "stream",
          "text": [
            "<class 'pandas.core.frame.DataFrame'>\n",
            "Index: 16512 entries, 12288 to 4561\n",
            "Data columns (total 9 columns):\n",
            " #   Column              Non-Null Count  Dtype  \n",
            "---  ------              --------------  -----  \n",
            " 0   longitude           16512 non-null  float64\n",
            " 1   latitude            16512 non-null  float64\n",
            " 2   housing_median_age  16512 non-null  float64\n",
            " 3   total_rooms         16512 non-null  float64\n",
            " 4   total_bedrooms      16512 non-null  float64\n",
            " 5   population          16512 non-null  float64\n",
            " 6   households          16512 non-null  float64\n",
            " 7   median_income       16512 non-null  float64\n",
            " 8   rooms_per_house     16512 non-null  float64\n",
            "dtypes: float64(9)\n",
            "memory usage: 1.3 MB\n"
          ]
        }
      ],
      "source": [
        "# تبدیل آرایه خروجی به DataFrame جدید با همان ستون‌ها و اندیس‌های اصلی برای سهولت کار با داده‌ها\n",
        "df_Update=pd.DataFrame(simpel_impute.transform(train_features_numberic),columns=train_features_numberic.columns,index=train_features_numberic.index)\n",
        "df_Update.info()\n"
      ]
    }
  ],
  "metadata": {
    "colab": {
      "provenance": []
    },
    "kernelspec": {
      "display_name": "Python 3",
      "name": "python3"
    },
    "language_info": {
      "codemirror_mode": {
        "name": "ipython",
        "version": 3
      },
      "file_extension": ".py",
      "mimetype": "text/x-python",
      "name": "python",
      "nbconvert_exporter": "python",
      "pygments_lexer": "ipython3",
      "version": "3.10.10"
    }
  },
  "nbformat": 4,
  "nbformat_minor": 0
}
